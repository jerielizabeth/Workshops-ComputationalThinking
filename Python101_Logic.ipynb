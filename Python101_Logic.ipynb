{
  "nbformat": 4,
  "nbformat_minor": 0,
  "metadata": {
    "colab": {
      "name": "Python101-Logic.ipynb",
      "provenance": [],
      "authorship_tag": "ABX9TyMxtmqV5Uoz3z1Tj8QE6NCq",
      "include_colab_link": true
    },
    "kernelspec": {
      "name": "python3",
      "display_name": "Python 3"
    },
    "language_info": {
      "name": "python"
    }
  },
  "cells": [
    {
      "cell_type": "markdown",
      "metadata": {
        "id": "view-in-github",
        "colab_type": "text"
      },
      "source": [
        "<a href=\"https://colab.research.google.com/github/jerielizabeth/Workshops-ComputationalThinking/blob/main/Python101_Logic.ipynb\" target=\"_parent\"><img src=\"https://colab.research.google.com/assets/colab-badge.svg\" alt=\"Open In Colab\"/></a>"
      ]
    },
    {
      "cell_type": "code",
      "metadata": {
        "id": "DgY-37-c2MbO"
      },
      "source": [
        "from IPython.display import Image"
      ],
      "execution_count": 1,
      "outputs": []
    },
    {
      "cell_type": "markdown",
      "metadata": {
        "id": "K-ylt-tR2EYr"
      },
      "source": [
        "Finally, we can choose when the computer does different actions by setting up different logical checks or conditions. This lets us set up forks in the flow chart and so tackle more complex problems."
      ]
    },
    {
      "cell_type": "code",
      "metadata": {
        "colab": {
          "base_uri": "https://localhost:8080/",
          "height": 393
        },
        "id": "6aGOia3G1zk7",
        "outputId": "a4185f6d-481f-4aa9-9bf4-37ed21c139d7"
      },
      "source": [
        "Image(url=\"https://media.giphy.com/media/TZKFBveHtquAM/giphy.gif\")"
      ],
      "execution_count": 2,
      "outputs": [
        {
          "output_type": "execute_result",
          "data": {
            "text/html": [
              "<img src=\"https://media.giphy.com/media/TZKFBveHtquAM/giphy.gif\"/>"
            ],
            "text/plain": [
              "<IPython.core.display.Image object>"
            ]
          },
          "metadata": {},
          "execution_count": 2
        }
      ]
    },
    {
      "cell_type": "markdown",
      "metadata": {
        "id": "89aEmc1833SQ"
      },
      "source": [
        "# Comparisons\n",
        "\n",
        "In order to create conditionals, we need to compare different variables to see if a particular condition is true or false. \n",
        "\n",
        "Our most common comparisons are \n",
        "\n",
        "Comparison Operator | Explanation\n",
        "--------------------|------------\n",
        "x == y | True if x is equal to y\n",
        "x != y | True if x is not equal to y\n",
        "x > y  | True if x is greater than y\n",
        "x < y  | True if x is less than y\n",
        "x >= y | True if x is greater than or equal to y\n",
        "x <= y | True if x is less than or equal to y"
      ]
    },
    {
      "cell_type": "code",
      "metadata": {
        "id": "--aSl8rZ6C5Q",
        "colab": {
          "base_uri": "https://localhost:8080/"
        },
        "outputId": "e8d929b5-e4b0-47b9-f91b-0dfc021f4fd5"
      },
      "source": [
        "x = 10\n",
        "y = 30\n",
        "\n",
        "y == 2*x"
      ],
      "execution_count": 3,
      "outputs": [
        {
          "output_type": "execute_result",
          "data": {
            "text/plain": [
              "False"
            ]
          },
          "metadata": {},
          "execution_count": 3
        }
      ]
    },
    {
      "cell_type": "code",
      "metadata": {
        "id": "5QUj-yx26anh"
      },
      "source": [
        "# Try out another comparison here"
      ],
      "execution_count": null,
      "outputs": []
    },
    {
      "cell_type": "markdown",
      "metadata": {
        "id": "28aBqqCQ6rbJ"
      },
      "source": [
        "We can also combine comparisons using logical operators of `and`, `or`, and `not`."
      ]
    },
    {
      "cell_type": "code",
      "metadata": {
        "colab": {
          "base_uri": "https://localhost:8080/"
        },
        "id": "VI5lpa7_6_qH",
        "outputId": "552126b8-7ad2-45d9-b145-fff397f204b3"
      },
      "source": [
        "x > 5 and y < 50"
      ],
      "execution_count": 4,
      "outputs": [
        {
          "output_type": "execute_result",
          "data": {
            "text/plain": [
              "True"
            ]
          },
          "metadata": {},
          "execution_count": 4
        }
      ]
    },
    {
      "cell_type": "markdown",
      "metadata": {
        "id": "ZpPiHI4k7F0F"
      },
      "source": [
        "Notice how the \"and\" text turned blue? That is because Jupyter recognized `and` as a logical operator."
      ]
    },
    {
      "cell_type": "code",
      "metadata": {
        "id": "-9JeGpFn7aMz"
      },
      "source": [
        "# Try out some other logical operators."
      ],
      "execution_count": null,
      "outputs": []
    },
    {
      "cell_type": "markdown",
      "metadata": {
        "id": "A-uqfkEa7jf6"
      },
      "source": [
        "# Conditionals\n",
        "Once we can determine truth values, we can set up forking paths based on truth values. \n",
        "\n",
        "In Python we do this with `if`, `else`, and optionally `elif` operators. Like the `for` line, these also need to end with a `:`\n",
        "\n",
        "The conditional operator checks to see if the value of the current proposition is True of False and then directs the computational flow accordingly. "
      ]
    },
    {
      "cell_type": "code",
      "metadata": {
        "colab": {
          "base_uri": "https://localhost:8080/"
        },
        "id": "Kt3OBVz68aZ1",
        "outputId": "7ca16633-7b06-4256-cc6e-301a84d60983"
      },
      "source": [
        "list_of_strings = [\"Jack Skellington\", \"Sally\", \"Oogie Boogie\", \"Zero\", \"Dr. Finkelstein\", \"Sandy Claws\"]\n",
        "\n",
        "for each in list_of_strings:\n",
        "  if each.startswith('S'):\n",
        "    print(each)\n",
        "  else:\n",
        "    first_letter = each[0]\n",
        "    print(f\"First letter is {first_letter}\")"
      ],
      "execution_count": 8,
      "outputs": [
        {
          "output_type": "stream",
          "name": "stdout",
          "text": [
            "First letter is J\n",
            "Sally\n",
            "First letter is O\n",
            "First letter is Z\n",
            "First letter is D\n",
            "Sandy Claws\n"
          ]
        }
      ]
    },
    {
      "cell_type": "markdown",
      "metadata": {
        "id": "lh68wnvgA3sb"
      },
      "source": [
        "`Elif` lets us include multiple conditions. "
      ]
    },
    {
      "cell_type": "code",
      "metadata": {
        "colab": {
          "base_uri": "https://localhost:8080/"
        },
        "id": "GtmLBT52A8HE",
        "outputId": "7ade4810-3d5c-4318-f129-e506190d9fe0"
      },
      "source": [
        "for each in list_of_strings:\n",
        "  if each.startswith('S'):\n",
        "    print(each)\n",
        "  elif each.startswith('J'):\n",
        "    print(f\"{each} is the best!\")\n",
        "  else:\n",
        "    first_letter = each[0]\n",
        "    print(f\"First letter is {first_letter}\")"
      ],
      "execution_count": 9,
      "outputs": [
        {
          "output_type": "stream",
          "name": "stdout",
          "text": [
            "Jack Skellington is the best!\n",
            "Sally\n",
            "First letter is O\n",
            "First letter is Z\n",
            "First letter is D\n",
            "Sandy Claws\n"
          ]
        }
      ]
    },
    {
      "cell_type": "code",
      "metadata": {
        "id": "61kbka0nBJvA"
      },
      "source": [
        "# Try changing one of the conditions. Then try to add another elif condition.\n",
        "for each in list_of_strings:\n",
        "  if each.startswith('S'):\n",
        "    print(each)\n",
        "  elif each.startswith('J'):\n",
        "    print(f\"{each} is the best!\")\n",
        "  else:\n",
        "    first_letter = each[0]\n",
        "    print(f\"First letter is {first_letter}\")"
      ],
      "execution_count": null,
      "outputs": []
    },
    {
      "cell_type": "code",
      "metadata": {
        "id": "ZYg10ZCABg0e"
      },
      "source": [
        "# Create a new list. Then loop through it with one conditional fork. "
      ],
      "execution_count": null,
      "outputs": []
    },
    {
      "cell_type": "markdown",
      "metadata": {
        "id": "6e0gUuqMTVKY"
      },
      "source": [
        "For more practice see, https://melaniewalsh.github.io/Intro-Cultural-Analytics/02-Python/08-Comparisons-Conditionals.html"
      ]
    },
    {
      "cell_type": "code",
      "metadata": {
        "id": "3zU6ALjPTgBe"
      },
      "source": [
        ""
      ],
      "execution_count": null,
      "outputs": []
    }
  ]
}
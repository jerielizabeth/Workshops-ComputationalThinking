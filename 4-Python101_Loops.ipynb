{
  "nbformat": 4,
  "nbformat_minor": 0,
  "metadata": {
    "colab": {
      "name": "Python101-Loops.ipynb",
      "provenance": [],
      "authorship_tag": "ABX9TyNPOrPEakq9ZI++NaZ96MYu",
      "include_colab_link": true
    },
    "kernelspec": {
      "name": "python3",
      "display_name": "Python 3"
    },
    "language_info": {
      "name": "python"
    }
  },
  "cells": [
    {
      "cell_type": "markdown",
      "metadata": {
        "id": "view-in-github",
        "colab_type": "text"
      },
      "source": [
        "<a href=\"https://colab.research.google.com/github/jerielizabeth/Workshops-ComputationalThinking/blob/main/Python101_Loops.ipynb\" target=\"_parent\"><img src=\"https://colab.research.google.com/assets/colab-badge.svg\" alt=\"Open In Colab\"/></a>"
      ]
    },
    {
      "cell_type": "code",
      "metadata": {
        "id": "F_dDvgvQ1KMV"
      },
      "source": [
        "from IPython.display import Image"
      ],
      "execution_count": 9,
      "outputs": []
    },
    {
      "cell_type": "markdown",
      "metadata": {
        "id": "EvEk6cYW2Gyo"
      },
      "source": [
        "Loops are one of the most important basic concepts in programming. \n",
        "\n",
        "Think of a loop like telling a song to repeat (play on loop) - a loop is when the computer runs the same pattern over and over. This lets you set up a process and then apply it over and over again.\n",
        "\n",
        "Loops and Lists go hand in hand - when you have a series of things (stored in a list), you can work through them one at a time.\n"
      ]
    },
    {
      "cell_type": "code",
      "metadata": {
        "colab": {
          "base_uri": "https://localhost:8080/",
          "height": 380
        },
        "id": "FfQiYmAs1L9V",
        "outputId": "f1067eea-5d46-40f0-c541-07b325633132"
      },
      "source": [
        "Image(url=\"https://media.giphy.com/media/ieaUdBJJC19uw/giphy.gif\")"
      ],
      "execution_count": 10,
      "outputs": [
        {
          "output_type": "execute_result",
          "data": {
            "text/html": [
              "<img src=\"https://media.giphy.com/media/ieaUdBJJC19uw/giphy.gif\"/>"
            ],
            "text/plain": [
              "<IPython.core.display.Image object>"
            ]
          },
          "metadata": {},
          "execution_count": 10
        }
      ]
    },
    {
      "cell_type": "code",
      "metadata": {
        "id": "mY2bs5WDtado"
      },
      "source": [
        "list_of_strings = [\"Jack Skellington\", \"Sally\", \"Oogie Boogie\", \"Zero\", \"Dr. Finkelstein\", \"Sandy Claws\"]"
      ],
      "execution_count": 1,
      "outputs": []
    },
    {
      "cell_type": "markdown",
      "metadata": {
        "id": "t9VJOTtIucLf"
      },
      "source": [
        "To set up a loop, you use the following syntax:\n",
        "\n",
        "```\n",
        "For each in list:\n",
        "  what you want the computer to do to each individual item in the list.\n",
        "```\n",
        "\n",
        "\n",
        "Few things to note:\n",
        "- \"each\" is an arbitrary word - it's how you refer to the current item in the list. You are essentially assigning a new variable in the middle of the process. \n",
        "- You have to end the 'for x in list' line with a \":\". If you don't, you will get a syntax error from Python.\n",
        "- Once you start a loop, you indent the lines that contain the elemnts of the loop. Once you are done, you move back out to the unindented position. Keeping track of your indents is one of the challenges with Python.\n",
        "\n",
        "Let's try a few loops.\n",
        "\n"
      ]
    },
    {
      "cell_type": "code",
      "metadata": {
        "colab": {
          "base_uri": "https://localhost:8080/"
        },
        "id": "fLWvp4yAuw2Y",
        "outputId": "03823dae-3c4b-417e-8277-94fd0332081f"
      },
      "source": [
        "for character in list_of_strings:\n",
        "  print(character)"
      ],
      "execution_count": 2,
      "outputs": [
        {
          "output_type": "stream",
          "name": "stdout",
          "text": [
            "Jack Skellington\n",
            "Sally\n",
            "Oogie Boogie\n",
            "Zero\n",
            "Dr. Finkelstein\n",
            "Sandy Claws\n"
          ]
        }
      ]
    },
    {
      "cell_type": "code",
      "metadata": {
        "colab": {
          "base_uri": "https://localhost:8080/"
        },
        "id": "yhKzdH41wGKX",
        "outputId": "ca26f664-0cad-486a-887e-d913271b5e4c"
      },
      "source": [
        "for character in list_of_strings:\n",
        "  # print, change to lower case, then print again\n",
        "  print(character)\n",
        "  lower_case = character.lower()\n",
        "  print(lower_case)"
      ],
      "execution_count": 3,
      "outputs": [
        {
          "output_type": "stream",
          "name": "stdout",
          "text": [
            "Jack Skellington\n",
            "jack skellington\n",
            "Sally\n",
            "sally\n",
            "Oogie Boogie\n",
            "oogie boogie\n",
            "Zero\n",
            "zero\n",
            "Dr. Finkelstein\n",
            "dr. finkelstein\n",
            "Sandy Claws\n",
            "sandy claws\n"
          ]
        }
      ]
    },
    {
      "cell_type": "code",
      "metadata": {
        "id": "qQZbtMF2wa30"
      },
      "source": [
        "# You try this one: \n",
        "\n",
        "for character in list_of_strings:\n",
        "  # print, change to upper case, then print again"
      ],
      "execution_count": null,
      "outputs": []
    },
    {
      "cell_type": "markdown",
      "metadata": {
        "id": "TnYLAOtKwjiZ"
      },
      "source": [
        "You can also set up a list with using a function called `range()` to create a numerical sequence. "
      ]
    },
    {
      "cell_type": "code",
      "metadata": {
        "colab": {
          "base_uri": "https://localhost:8080/"
        },
        "id": "H-_6Xzoxw6fy",
        "outputId": "ed809881-112c-4102-8362-fb7c65fdc6b6"
      },
      "source": [
        "for each in range(5):\n",
        "  print(each)"
      ],
      "execution_count": 5,
      "outputs": [
        {
          "output_type": "stream",
          "name": "stdout",
          "text": [
            "0\n",
            "1\n",
            "2\n",
            "3\n",
            "4\n"
          ]
        }
      ]
    },
    {
      "cell_type": "markdown",
      "metadata": {
        "id": "IjkXwV_iw9ZG"
      },
      "source": [
        "Wait? What happened to 5?"
      ]
    },
    {
      "cell_type": "markdown",
      "metadata": {
        "id": "6QMrtFxTxCKP"
      },
      "source": [
        "We can also use the `enumerate()` function to generate a position number along with each item in a list. "
      ]
    },
    {
      "cell_type": "code",
      "metadata": {
        "colab": {
          "base_uri": "https://localhost:8080/"
        },
        "id": "EXKMRbxXxJH-",
        "outputId": "7b26b9ab-a3dc-4df4-cd39-3b1eb70a8989"
      },
      "source": [
        "for number, character in enumerate(list_of_strings):\n",
        "  print(f\"{number}: {character}\")"
      ],
      "execution_count": 8,
      "outputs": [
        {
          "output_type": "stream",
          "name": "stdout",
          "text": [
            "0: Jack Skellington\n",
            "1: Sally\n",
            "2: Oogie Boogie\n",
            "3: Zero\n",
            "4: Dr. Finkelstein\n",
            "5: Sandy Claws\n"
          ]
        }
      ]
    },
    {
      "cell_type": "markdown",
      "metadata": {
        "id": "ShPic4Jcxlb2"
      },
      "source": [
        "Loops continue as long as the initial condition is True - as long as there is something in the list to work on.\n",
        "\n",
        "It is possible to create something called an infinite loop - that is where the initial loop conditions are always true and the computer just keeps trucking, over and over and over and over .........\n",
        "\n",
        "If you start a computing process and it doesn't stop for awhile and your fan starts to whirr .... don't panic. We can interrupt the computer and cut off the loop.\n",
        "\n",
        "Here in CoLab, click Runtime in the top and click \"interrupt execution\" or click `command m` (mac) or `control m` (windows)."
      ]
    },
    {
      "cell_type": "markdown",
      "metadata": {
        "id": "TCswp4nb0m44"
      },
      "source": [
        "Try experimenting with creating a list and then using a loop to print each item in the list."
      ]
    },
    {
      "cell_type": "code",
      "metadata": {
        "id": "Uz-_j-r40va1"
      },
      "source": [
        ""
      ],
      "execution_count": null,
      "outputs": []
    }
  ]
}
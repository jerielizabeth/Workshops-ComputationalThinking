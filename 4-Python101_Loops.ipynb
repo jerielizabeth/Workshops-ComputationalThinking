{
  "cells": [
    {
      "cell_type": "markdown",
      "metadata": {
        "colab_type": "text",
        "id": "view-in-github"
      },
      "source": [
        "<a href=\"https://colab.research.google.com/github/jerielizabeth/Workshops-ComputationalThinking/blob/main/Python101_Loops.ipynb\" target=\"_parent\"><img src=\"https://colab.research.google.com/assets/colab-badge.svg\" alt=\"Open In Colab\"/></a>"
      ]
    },
    {
      "cell_type": "code",
      "execution_count": null,
      "metadata": {
        "id": "F_dDvgvQ1KMV"
      },
      "outputs": [],
      "source": [
        "from IPython.display import Image"
      ]
    },
    {
      "cell_type": "markdown",
      "metadata": {
        "id": "EvEk6cYW2Gyo"
      },
      "source": [
        "Loops are one of the most important basic concepts in programming. \n",
        "\n",
        "Think of a loop like telling a song to repeat (play on loop) - a loop is when the computer runs the same pattern over and over. This lets you set up a process and then apply it over and over again.\n",
        "\n",
        "Loops and Lists go hand in hand - when you have a series of things (stored in a list), you can work through them one at a time.\n"
      ]
    },
    {
      "cell_type": "code",
      "execution_count": null,
      "metadata": {
        "colab": {
          "base_uri": "https://localhost:8080/",
          "height": 380
        },
        "id": "FfQiYmAs1L9V",
        "outputId": "f1067eea-5d46-40f0-c541-07b325633132"
      },
      "outputs": [],
      "source": [
        "Image(url=\"https://media.giphy.com/media/ieaUdBJJC19uw/giphy.gif\")"
      ]
    },
    {
      "cell_type": "code",
      "execution_count": null,
      "metadata": {
        "id": "mY2bs5WDtado"
      },
      "outputs": [],
      "source": [
        "list_of_strings = [\"Jack Skellington\", \"Sally\", \"Oogie Boogie\", \"Zero\", \"Dr. Finkelstein\", \"Sandy Claws\"]"
      ]
    },
    {
      "cell_type": "markdown",
      "metadata": {
        "id": "t9VJOTtIucLf"
      },
      "source": [
        "To set up a loop, you use the following syntax:\n",
        "\n",
        "```\n",
        "For each in list:\n",
        "  what you want the computer to do to each individual item in the list.\n",
        "```\n",
        "\n",
        "\n",
        "Few things to note:\n",
        "- \"each\" is an arbitrary word - it's how you refer to the current item in the list. You are essentially assigning a new variable in the middle of the process. \n",
        "- You have to end the 'for x in list' line with a \":\". If you don't, you will get a syntax error from Python.\n",
        "- Once you start a loop, you indent the lines that contain the elemnts of the loop. Once you are done, you move back out to the unindented position. Keeping track of your indents is one of the challenges with Python.\n",
        "\n",
        "Let's try a few loops.\n",
        "\n"
      ]
    },
    {
      "cell_type": "code",
      "execution_count": null,
      "metadata": {
        "colab": {
          "base_uri": "https://localhost:8080/"
        },
        "id": "fLWvp4yAuw2Y",
        "outputId": "03823dae-3c4b-417e-8277-94fd0332081f"
      },
      "outputs": [],
      "source": [
        "for character in list_of_strings:\n",
        "  print(character)"
      ]
    },
    {
      "cell_type": "code",
      "execution_count": null,
      "metadata": {
        "colab": {
          "base_uri": "https://localhost:8080/"
        },
        "id": "yhKzdH41wGKX",
        "outputId": "ca26f664-0cad-486a-887e-d913271b5e4c"
      },
      "outputs": [],
      "source": [
        "for character in list_of_strings:\n",
        "  # print, change to lower case, then print again\n",
        "  print(character)\n",
        "  lower_case = character.lower()\n",
        "  print(lower_case)"
      ]
    },
    {
      "cell_type": "code",
      "execution_count": null,
      "metadata": {
        "id": "qQZbtMF2wa30"
      },
      "outputs": [],
      "source": [
        "# You try this one: \n",
        "\n",
        "for character in list_of_strings:\n",
        "  # print, change to upper case, then print again"
      ]
    },
    {
      "cell_type": "markdown",
      "metadata": {
        "id": "TnYLAOtKwjiZ"
      },
      "source": [
        "You can also set up a list with using a function called `range()` to create a numerical sequence. "
      ]
    },
    {
      "cell_type": "code",
      "execution_count": null,
      "metadata": {
        "colab": {
          "base_uri": "https://localhost:8080/"
        },
        "id": "H-_6Xzoxw6fy",
        "outputId": "ed809881-112c-4102-8362-fb7c65fdc6b6"
      },
      "outputs": [],
      "source": [
        "for each in range(5):\n",
        "  print(each)"
      ]
    },
    {
      "cell_type": "markdown",
      "metadata": {
        "id": "IjkXwV_iw9ZG"
      },
      "source": [
        "Wait? What happened to 5?"
      ]
    },
    {
      "cell_type": "markdown",
      "metadata": {
        "id": "6QMrtFxTxCKP"
      },
      "source": [
        "We can also use the `enumerate()` function to generate a position number along with each item in a list. "
      ]
    },
    {
      "cell_type": "code",
      "execution_count": null,
      "metadata": {
        "colab": {
          "base_uri": "https://localhost:8080/"
        },
        "id": "EXKMRbxXxJH-",
        "outputId": "7b26b9ab-a3dc-4df4-cd39-3b1eb70a8989"
      },
      "outputs": [],
      "source": [
        "for number, character in enumerate(list_of_strings):\n",
        "  print(f\"{number}: {character}\")"
      ]
    },
    {
      "cell_type": "markdown",
      "metadata": {
        "id": "ShPic4Jcxlb2"
      },
      "source": [
        "Loops continue as long as the initial condition is True - as long as there is something in the list to work on.\n",
        "\n",
        "It is possible to create something called an infinite loop - that is where the initial loop conditions are always true and the computer just keeps trucking, over and over and over and over .........\n",
        "\n",
        "If you start a computing process and it doesn't stop for awhile and your fan starts to whirr .... don't panic. We can interrupt the computer and cut off the loop.\n",
        "\n",
        "Here in CoLab, click Runtime in the top and click \"interrupt execution\" or click `command m` (mac) or `control m` (windows)."
      ]
    },
    {
      "cell_type": "markdown",
      "metadata": {
        "id": "TCswp4nb0m44"
      },
      "source": [
        "Try experimenting with creating a list and then using a loop to print each item in the list."
      ]
    },
    {
      "cell_type": "code",
      "execution_count": null,
      "metadata": {
        "id": "Uz-_j-r40va1"
      },
      "outputs": [],
      "source": []
    }
  ],
  "metadata": {
    "colab": {
      "authorship_tag": "ABX9TyNPOrPEakq9ZI++NaZ96MYu",
      "include_colab_link": true,
      "name": "Python101-Loops.ipynb",
      "provenance": []
    },
    "kernelspec": {
      "display_name": "python101",
      "language": "python",
      "name": "python3"
    },
    "language_info": {
      "codemirror_mode": {
        "name": "ipython",
        "version": 3
      },
      "file_extension": ".py",
      "mimetype": "text/x-python",
      "name": "python",
      "nbconvert_exporter": "python",
      "pygments_lexer": "ipython3",
      "version": "3.13.2"
    }
  },
  "nbformat": 4,
  "nbformat_minor": 0
}

{
  "cells": [
    {
      "cell_type": "markdown",
      "metadata": {
        "colab_type": "text",
        "id": "view-in-github"
      },
      "source": [
        "<a href=\"https://colab.research.google.com/github/jerielizabeth/Workshops-ComputationalThinking/blob/main/Python101_Variables.ipynb\" target=\"_parent\"><img src=\"https://colab.research.google.com/assets/colab-badge.svg\" alt=\"Open In Colab\"/></a>"
      ]
    },
    {
      "cell_type": "code",
      "execution_count": null,
      "metadata": {
        "id": "fy5f-DbNBj6v"
      },
      "outputs": [],
      "source": [
        "from IPython.display import Image"
      ]
    },
    {
      "cell_type": "markdown",
      "metadata": {
        "id": "krzYD5jJ87xy"
      },
      "source": [
        "# Variables\n"
      ]
    },
    {
      "cell_type": "markdown",
      "metadata": {
        "id": "koUdgF1jIohJ"
      },
      "source": [
        "This is not entirely dissimilar to a word and its definition - the word \"pipe\" is used to designate, among other things, \"A narrow tube of clay, wood, or other material, with a bowl at one end, for drawing in the smoke of tobacco (or other narcotic or medicinal substance). Often used as including the contained tobacco, etc., as in to light one's pipe, to smoke a pipe; also for a quantity which fills the bowl and is smoked at one time, a pipeful.\" (OED) \n",
        "\n",
        "We use \"pipe\" as a signifier to communicate about the signified concept of a tube for smoking, which has some relationship (maybe) to a thing in the world (referent). "
      ]
    },
    {
      "cell_type": "code",
      "execution_count": null,
      "metadata": {
        "colab": {
          "base_uri": "https://localhost:8080/",
          "height": 257
        },
        "id": "REG6RTTmCoP3",
        "outputId": "5b326b91-210c-4841-a267-4fb0d94649e7"
      },
      "outputs": [],
      "source": [
        "Image(url=\"https://media.giphy.com/media/tGQFAuLzsabkI/giphy.gif\")"
      ]
    },
    {
      "cell_type": "markdown",
      "metadata": {
        "id": "pITcBQnCD92J"
      },
      "source": [
        "In coding, with a few exceptions, we have to define our signifiers and the signified. The language has a few terms defined for us - [these are reserved keywords](https://realpython.com/lessons/reserved-keywords/) and they refer to basic concepts that make the language work. \n",
        "\n",
        "Additionally, we can use vocabularies created by other people. We will talk about this later when we talk about libraries, but we don't necessary have to define **everything**. Rather a lot of coding is combining things that other people have creating. "
      ]
    },
    {
      "cell_type": "code",
      "execution_count": null,
      "metadata": {
        "colab": {
          "base_uri": "https://localhost:8080/"
        },
        "id": "L-uzMLLKt-Fp",
        "outputId": "8e8907fa-9518-4b3f-8751-104ee03c0deb"
      },
      "outputs": [],
      "source": [
        "help(\"keywords\")"
      ]
    },
    {
      "cell_type": "markdown",
      "metadata": {
        "id": "biP24Lm4GMhW"
      },
      "source": [
        "## How Variables Work\n",
        "\n",
        "Variables are made up of a combination of:\n",
        "\n",
        "- upper and lower-case letters (A-Z)\n",
        "- digits (0-9)\n",
        "- underscores (_)\n",
        "\n",
        "To \"**assign**\" a variable, you first state the name of the variable (signifier), then an \"=\" and then the content of the variable (signified).\n"
      ]
    },
    {
      "cell_type": "code",
      "execution_count": null,
      "metadata": {
        "colab": {
          "base_uri": "https://localhost:8080/",
          "height": 35
        },
        "id": "9PlzJjlAu0QH",
        "outputId": "256435da-ea23-4189-d18e-875456151e5c"
      },
      "outputs": [],
      "source": [
        "# in Jupyter, if you just give the name of a variable, it will display its contents below the code cell.\n",
        "\n",
        "pipe = \"A tube for drawing in the smoke of tobacco.\""
      ]
    },
    {
      "cell_type": "code",
      "execution_count": null,
      "metadata": {},
      "outputs": [],
      "source": [
        "pipe "
      ]
    },
    {
      "cell_type": "markdown",
      "metadata": {
        "id": "oVr8dkMIviNt"
      },
      "source": [
        "Usually, we name variables with a lower case letter to start. While you can use numbers in a variable, you cannot start the variable name with a number - if you do, you will receive an error message.\n",
        "\n",
        "If you want to use multiple words, connect them with an \"_\". For example:"
      ]
    },
    {
      "cell_type": "code",
      "execution_count": null,
      "metadata": {
        "colab": {
          "base_uri": "https://localhost:8080/",
          "height": 35
        },
        "id": "BKtYuqfJvlzv",
        "outputId": "fc07fb16-c691-4244-abb3-a1cc7b3d57cf"
      },
      "outputs": [],
      "source": [
        "copper_pipe = \"a tube made out of copper.\"\n",
        "copper_pipe"
      ]
    },
    {
      "cell_type": "markdown",
      "metadata": {
        "id": "rckdfURuv_lC"
      },
      "source": [
        "A variable can hold many different types of things, including sentences, numbers, and collections of things. \n",
        "\n",
        "A good variable name is short but descriptive so that future you has a sense of what the variable contains, but current you does not have to type a really long variable name over and over."
      ]
    },
    {
      "cell_type": "markdown",
      "metadata": {
        "id": "Qr46zl23GJQS"
      },
      "source": [
        "## Practice\n",
        "\n",
        "In the code cell below, try creating and calling a variable.\n",
        "\n",
        "Create a new code cell and assign another variable. Try calling both variables in the same line."
      ]
    },
    {
      "cell_type": "code",
      "execution_count": null,
      "metadata": {
        "id": "FDB0g1tpw6GB"
      },
      "outputs": [],
      "source": []
    },
    {
      "cell_type": "markdown",
      "metadata": {
        "id": "1qTutWDKwrSY"
      },
      "source": [
        "For more practice with variables, see https://melaniewalsh.github.io/Intro-Cultural-Analytics/02-Python/04-Variables.html. "
      ]
    }
  ],
  "metadata": {
    "colab": {
      "authorship_tag": "ABX9TyMo1QxaN4jryVrA0n/IO5uu",
      "collapsed_sections": [],
      "include_colab_link": true,
      "name": "Python101-Variables.ipynb",
      "provenance": []
    },
    "kernelspec": {
      "display_name": "python101",
      "language": "python",
      "name": "python3"
    },
    "language_info": {
      "codemirror_mode": {
        "name": "ipython",
        "version": 3
      },
      "file_extension": ".py",
      "mimetype": "text/x-python",
      "name": "python",
      "nbconvert_exporter": "python",
      "pygments_lexer": "ipython3",
      "version": "3.13.2"
    }
  },
  "nbformat": 4,
  "nbformat_minor": 0
}

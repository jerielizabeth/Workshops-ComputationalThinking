{
  "cells": [
    {
      "cell_type": "markdown",
      "metadata": {
        "colab_type": "text",
        "id": "view-in-github"
      },
      "source": [
        "<a href=\"https://colab.research.google.com/github/jerielizabeth/Workshops-ComputationalThinking/blob/main/ExtendingPython.ipynb\" target=\"_parent\"><img src=\"https://colab.research.google.com/assets/colab-badge.svg\" alt=\"Open In Colab\"/></a>"
      ]
    },
    {
      "cell_type": "markdown",
      "metadata": {
        "id": "CsnY_IdBqk1v"
      },
      "source": [
        "Libraries let people develop solutions to different programming problems and then share their process with others. \n",
        "\n",
        "We do that using the `import` command, and then the library name. (Sometimes we also assign the library to a new variable if it's long.)\n",
        "\n",
        "For example, Beautiful Soup is a library for accessing and parsing HTML documents. We can pull Beautiful Soup and use all of its component functions for our work."
      ]
    },
    {
      "cell_type": "code",
      "execution_count": null,
      "metadata": {
        "id": "qu86OtrmrzrT"
      },
      "outputs": [],
      "source": [
        "from bs4 import BeautifulSoup"
      ]
    },
    {
      "cell_type": "markdown",
      "metadata": {
        "id": "Aeoy70QStC4x"
      },
      "source": [
        "We also need a way to access HTML documents from the web. For that we need another library, URLLib. "
      ]
    },
    {
      "cell_type": "code",
      "execution_count": null,
      "metadata": {
        "id": "_VRITz3UtB70"
      },
      "outputs": [],
      "source": [
        "import requests"
      ]
    },
    {
      "cell_type": "code",
      "execution_count": null,
      "metadata": {
        "id": "T3kzW1e4tv9m"
      },
      "outputs": [],
      "source": [
        "r = requests.get('https://cdh.princeton.edu/programs/graduate-program/')"
      ]
    },
    {
      "cell_type": "code",
      "execution_count": null,
      "metadata": {
        "id": "LC-JUTG_t7se"
      },
      "outputs": [],
      "source": [
        "r.text"
      ]
    },
    {
      "cell_type": "markdown",
      "metadata": {
        "id": "g9SXilzwuIo8"
      },
      "source": [
        "Now we have the content of an HTML page. What if we want to find all of the links in the document? For that, we can use Beautiful Soup."
      ]
    },
    {
      "cell_type": "code",
      "execution_count": null,
      "metadata": {
        "id": "238Dk7Scuw4B"
      },
      "outputs": [],
      "source": [
        "# First we pass the whole HTML object to Beautiful Soup\n",
        "soup = BeautifulSoup(r.text, 'html.parser')\n",
        "\n",
        "# Then we can start to do things"
      ]
    },
    {
      "cell_type": "code",
      "execution_count": null,
      "metadata": {
        "id": "uAuGXUGkvHLU"
      },
      "outputs": [],
      "source": [
        "# Such as, we make the HTML text pretty\n",
        "print(soup.prettify())"
      ]
    },
    {
      "cell_type": "code",
      "execution_count": null,
      "metadata": {
        "id": "Lp5oB6-ovWcn"
      },
      "outputs": [],
      "source": [
        "# Or we can request all of the links from the page\n",
        "\n",
        "soup.find_all('p')"
      ]
    },
    {
      "cell_type": "markdown",
      "metadata": {
        "id": "pzezTpNWvjhP"
      },
      "source": [
        "Most of coding is combining elements in different ways to get a job done. Similar to cooking - you have ingredients that you combine. Very rarely do you grow and raise all of the elements that make up a dish. \n",
        "\n",
        "The key to using libraries is to use their documentation. Look at the docs for Beautiful Soup and try out one or two additional functions on this or another web page.\n",
        "- https://www.crummy.com/software/BeautifulSoup/bs4/doc/\n"
      ]
    },
    {
      "cell_type": "code",
      "execution_count": null,
      "metadata": {
        "id": "8mfrPSXvwdMK"
      },
      "outputs": [],
      "source": []
    }
  ],
  "metadata": {
    "colab": {
      "authorship_tag": "ABX9TyP9Pw8YBnkqQ04Zm80Db2aL",
      "include_colab_link": true,
      "name": "ExtendingPython.ipynb",
      "provenance": []
    },
    "kernelspec": {
      "display_name": "python101",
      "language": "python",
      "name": "python3"
    },
    "language_info": {
      "codemirror_mode": {
        "name": "ipython",
        "version": 3
      },
      "file_extension": ".py",
      "mimetype": "text/x-python",
      "name": "python",
      "nbconvert_exporter": "python",
      "pygments_lexer": "ipython3",
      "version": "3.13.2"
    }
  },
  "nbformat": 4,
  "nbformat_minor": 0
}

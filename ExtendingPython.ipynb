{
  "nbformat": 4,
  "nbformat_minor": 0,
  "metadata": {
    "colab": {
      "name": "ExtendingPython.ipynb",
      "provenance": [],
      "authorship_tag": "ABX9TyOqS5nih0CJCLU8uGXt6wsn",
      "include_colab_link": true
    },
    "kernelspec": {
      "name": "python3",
      "display_name": "Python 3"
    },
    "language_info": {
      "name": "python"
    }
  },
  "cells": [
    {
      "cell_type": "markdown",
      "metadata": {
        "id": "view-in-github",
        "colab_type": "text"
      },
      "source": [
        "<a href=\"https://colab.research.google.com/github/jerielizabeth/Workshops-ComputationalThinking/blob/main/ExtendingPython.ipynb\" target=\"_parent\"><img src=\"https://colab.research.google.com/assets/colab-badge.svg\" alt=\"Open In Colab\"/></a>"
      ]
    },
    {
      "cell_type": "markdown",
      "metadata": {
        "id": "CsnY_IdBqk1v"
      },
      "source": [
        "Libraries let people develop solutions to different programming problems and then share their process with others. \n",
        "\n",
        "We do that using the `import` command, and then the library name. (Sometimes we also assign the library to a new variable if it's long.)\n",
        "\n",
        "For example, Beautiful Soup is a library for accessing and parsing HTML documents. We can pull Beautiful Soup and use all of its component functions for our work."
      ]
    },
    {
      "cell_type": "code",
      "metadata": {
        "id": "qu86OtrmrzrT"
      },
      "source": [
        "from bs4 import BeautifulSoup"
      ],
      "execution_count": 1,
      "outputs": []
    },
    {
      "cell_type": "markdown",
      "metadata": {
        "id": "Aeoy70QStC4x"
      },
      "source": [
        "We also need a way to access HTML documents from the web. For that we need another library, URLLib. "
      ]
    },
    {
      "cell_type": "code",
      "metadata": {
        "id": "_VRITz3UtB70"
      },
      "source": [
        "import requests"
      ],
      "execution_count": 2,
      "outputs": []
    },
    {
      "cell_type": "code",
      "metadata": {
        "id": "T3kzW1e4tv9m"
      },
      "source": [
        "r = requests.get('http://digitallab.religion.ua.edu/')"
      ],
      "execution_count": 6,
      "outputs": []
    },
    {
      "cell_type": "code",
      "metadata": {
        "colab": {
          "base_uri": "https://localhost:8080/",
          "height": 814
        },
        "id": "LC-JUTG_t7se",
        "outputId": "7ae78efc-37cb-41e6-c3ae-ffce6da28846"
      },
      "source": [
        "r.text"
      ],
      "execution_count": 7,
      "outputs": [
        {
          "output_type": "execute_result",
          "data": {
            "application/vnd.google.colaboratory.intrinsic+json": {
              "type": "string"
            },
            "text/plain": [
              "'<!DOCTYPE html>\\n<html lang=\"en-US\">\\n\\n<head>\\n    <meta charset=\"utf-8\">\\n    <meta http-equiv=\"X-UA-Compatible\" content=\"IE=edge\">\\n    <meta name=\"viewport\" content=\"width=device-width, initial-scale=1\">\\n\\n    <link rel=\"stylesheet\" href=\"/assets/css/main.css\">\\n    <!-- <link rel=\"stylesheet\" href=\"/assets/css/font-awesome.min.css\"> -->\\n    <script src=\"https://kit.fontawesome.com/34ee87c754.js\" crossorigin=\"anonymous\"></script>\\n\\n    <link rel=\"shortcut icon\" href=\"/favicon.ico?1\">\\n    <!-- Begin Jekyll SEO tag v2.7.1 -->\\n<title>REL Digital Lab | Experiments in Digital Humanities and the Social Theory of Religion at the University of Alabama.</title>\\n<meta name=\"generator\" content=\"Jekyll v4.2.0\" />\\n<meta property=\"og:title\" content=\"REL Digital Lab\" />\\n<meta property=\"og:locale\" content=\"en_US\" />\\n<meta name=\"description\" content=\"Experiments in Digital Humanities and the Social Theory of Religion at the University of Alabama.\" />\\n<meta property=\"og:description\" content=\"Experiments in Digital Humanities and the Social Theory of Religion at the University of Alabama.\" />\\n<meta property=\"og:site_name\" content=\"REL Digital Lab\" />\\n<meta name=\"twitter:card\" content=\"summary\" />\\n<meta property=\"twitter:title\" content=\"REL Digital Lab\" />\\n<script type=\"application/ld+json\">\\n{\"headline\":\"REL Digital Lab\",\"url\":\"/\",\"description\":\"Experiments in Digital Humanities and the Social Theory of Religion at the University of Alabama.\",\"@type\":\"WebSite\",\"name\":\"REL Digital Lab\",\"@context\":\"https://schema.org\"}</script>\\n<!-- End Jekyll SEO tag -->\\n\\n\\n    <link rel=\"alternate\" type=\"application/rss+xml\" title=\"REL Digital Lab\" href=\"/feed.xml\" />\\n</head>\\n\\n\\n<body>\\n\\n    <nav class=\"navbar navbar-default navbar-fixed-top\">\\n    <div class=\"container navbar-container\">\\n        <div class=\"navbar-header\">\\n            <button type=\"button\" class=\"navbar-toggle collapsed\" data-toggle=\"collapse\" data-target=\"#navbar\" aria-expanded=\"false\" aria-controls=\"navbar\">\\n        <span class=\"sr-only\">Toggle navigation</span>\\n        <span class=\"icon-bar\"></span>\\n        <span class=\"icon-bar\"></span>\\n        <span class=\"icon-bar\"></span>\\n      </button>\\n            <a class=\"navbar-brand\" href=\"/\">\\n                <span><img src=\"/assets/img/logonav.png\" alt=\"REL Digital Lab\"></span> \\n            </a>\\n        </div>\\n        <div id=\"navbar\" class=\"collapse navbar-collapse\">\\n            <ul class=\"nav navbar-nav\">\\n                <li ><a href=\"/projects/\">Projects</a></li>\\n                <li ><a href=\"/docs/home/\">Resources</a></li>\\n                <li ><a href=\"/blog/2021/08/17/launching-the-lab/\">News</a></li>\\n                <li ><a href=\"/about/\">About</a></li>\\n                <li ><a href=\"/visit/\">Visit</a></li>\\n            </ul>\\n            <div class=\"navbar-right\">\\n                <form class=\"navbar-form navbar-left\">\\n                    <div class=\"form-group has-feedback\">\\n                        <input id=\"search-box\" type=\"search\" class=\"form-control\" placeholder=\"Search...\">\\n                        <i class=\"fa fa-search form-control-feedback\"></i>\\n                    </div>\\n                </form>\\n                <ul class=\"nav navbar-nav\">\\n                    <li><a href=\"https://github.com/RELDigitalLab\"><i class=\"fa fa-github\" aria-hidden=\"true\"></i></a></li>\\n                </ul>\\n            </div>\\n        </div>\\n    </div>\\n</nav>\\n\\n\\n    <div class=\"page-content\">\\n        <div class=\"wrapper\">\\n            <div class=\"header-container jumbotron\">\\n    <div class=\"container\">\\n        <h1>Welcome to the REL Digital Lab</h1>\\n        <p>Computational Methods and Resources for Studying Religion <em>in</em> Culture\\n        </p>\\n        <p><a class=\"btn btn-primary btn-lg\" href=\"/about/\" role=\"button\">Learn more</a></p>\\n    </div>\\n</div>\\n\\n<div class=\"container\">\\n    <div class=\"row\">\\n        <div class=\"col-md-6\">\\n            <h2 class=\"header-light regular-pad\">Who Are We?</h2>\\n              <p class=\"lead\">\\n                The REL Digital Lab is a collaborative space for digital humanities work in the <a href=\"https://religion.ua.edu/\">Department of Religious Studies</a>.\\n            </p> \\n            <p class=\"lead\">\\n                Located in Presidents Hall 200-A, the REL<i>dl</i> provides computing resources and project planning support for the departmentâ\\x80\\x99s teaching and research contributions to the digital humanities initiatives in the <a href=\"https://as.ua.edu/\">College of Arts and Sciences</a> at the <a href=\"https://www.ua.edu/\">University of Alabama</a>.\\n            </p> \\n            <p class=\"lead\">\\n                Visit our <a href=\"/docs/home/\">Resources page</a> for more information.\\n            </p>\\n        </div>\\n        <div class=\"col-md-6 text-center\">\\n            <img src=\"/assets/img/LoC-cardCatalog.jpg\" alt=\"Woman looking through card catalog\" class=\"img-responsive\">\\n        </div>\\n    </div>\\n    <hr>\\n    <div class=\"row\">\\n        <div class=\"col-sm-4\">\\n            <a href=\"/projects/\">\\n                <h1 class=\"text-center\"><i class=\"fas fa-project-diagram\" aria-hidden=\"true\"></i></h1>\\n                <h3 class=\"text-center\">DH Projects in REL</h3>\\n            </a>\\n            <p>Explore the digital scholarship of the REL faculty.\\n            </p>\\n        </div>\\n        <div class=\"col-sm-4\">\\n            <a href=\"/docs/hardware\">\\n                <h1 class=\"text-center\"><i class=\"fas fa-microphone\" aria-hidden=\"true\"></i></h1>\\n                <h3 class=\"text-center\">Lab Technologies</h3>\\n            </a>\\n            <p>Resources available for supporting digital scholarship in the study of religion.</p>\\n        </div>\\n        <div class=\"col-sm-4\">\\n            <a href=\"/docs/tutorials-overview\">\\n                <h1 class=\"text-center\"><i class=\"fas fa-chalkboard\" aria-hidden=\"true\"></i></h1>\\n                <h3 class=\"text-center\">Getting Started with DH</h3>\\n            </a>\\n            <p>Learn new skills and introduce students to digital methods for the humanities.</p>        \\n        </div>\\n\\n    </div>\\n</div>\\n\\n        </div>\\n    </div>\\n\\n    <footer class=\"footer\">\\n    <div class=\"container\">\\n\\n        <p class=\"text-center\">\\n            REL Digital Lab 2021 |\\n            Powered by <a href=\"https://github.com/aksakalli/jekyll-doc-theme\">Jekyll Doc Theme</a>\\n        </p>\\n        <!-- <p class=\"text-muted\">Place sticky footer content here.</p> -->\\n    </div>\\n</footer>\\n\\n    <script>\\n  var baseurl = \\'\\'\\n</script>\\n<script src=\"https://code.jquery.com/jquery-1.12.4.min.js\"></script>\\n<script src=\"/assets/js/bootstrap.min.js \"></script>\\n<script src=\"/assets/js/typeahead.bundle.min.js \"></script>\\n\\n<script src=\"/assets/js/main.js \"></script>\\n\\n</body>\\n\\n</html>\\n'"
            ]
          },
          "metadata": {},
          "execution_count": 7
        }
      ]
    },
    {
      "cell_type": "markdown",
      "metadata": {
        "id": "g9SXilzwuIo8"
      },
      "source": [
        "Now we have the content of an HTML page. What if we want to find all of the links in the document? For that, we can use Beautiful Soup."
      ]
    },
    {
      "cell_type": "code",
      "metadata": {
        "id": "238Dk7Scuw4B"
      },
      "source": [
        "# First we pass the whole HTML object to Beautiful Soup\n",
        "soup = BeautifulSoup(r.text, 'html.parser')\n",
        "\n",
        "# Then we can start to do things"
      ],
      "execution_count": 9,
      "outputs": []
    },
    {
      "cell_type": "code",
      "metadata": {
        "colab": {
          "base_uri": "https://localhost:8080/"
        },
        "id": "uAuGXUGkvHLU",
        "outputId": "180ae98e-4572-4024-97b3-3410a4ae1219"
      },
      "source": [
        "# Such as, we make the HTML text pretty\n",
        "print(soup.prettify())"
      ],
      "execution_count": 11,
      "outputs": [
        {
          "output_type": "stream",
          "name": "stdout",
          "text": [
            "<!DOCTYPE html>\n",
            "<html lang=\"en-US\">\n",
            " <head>\n",
            "  <meta charset=\"utf-8\"/>\n",
            "  <meta content=\"IE=edge\" http-equiv=\"X-UA-Compatible\"/>\n",
            "  <meta content=\"width=device-width, initial-scale=1\" name=\"viewport\"/>\n",
            "  <link href=\"/assets/css/main.css\" rel=\"stylesheet\"/>\n",
            "  <!-- <link rel=\"stylesheet\" href=\"/assets/css/font-awesome.min.css\"> -->\n",
            "  <script crossorigin=\"anonymous\" src=\"https://kit.fontawesome.com/34ee87c754.js\">\n",
            "  </script>\n",
            "  <link href=\"/favicon.ico?1\" rel=\"shortcut icon\"/>\n",
            "  <!-- Begin Jekyll SEO tag v2.7.1 -->\n",
            "  <title>\n",
            "   REL Digital Lab | Experiments in Digital Humanities and the Social Theory of Religion at the University of Alabama.\n",
            "  </title>\n",
            "  <meta content=\"Jekyll v4.2.0\" name=\"generator\">\n",
            "   <meta content=\"REL Digital Lab\" property=\"og:title\">\n",
            "    <meta content=\"en_US\" property=\"og:locale\">\n",
            "     <meta content=\"Experiments in Digital Humanities and the Social Theory of Religion at the University of Alabama.\" name=\"description\"/>\n",
            "     <meta content=\"Experiments in Digital Humanities and the Social Theory of Religion at the University of Alabama.\" property=\"og:description\"/>\n",
            "     <meta content=\"REL Digital Lab\" property=\"og:site_name\"/>\n",
            "     <meta content=\"summary\" name=\"twitter:card\"/>\n",
            "     <meta content=\"REL Digital Lab\" property=\"twitter:title\"/>\n",
            "     <script type=\"application/ld+json\">\n",
            "      {\"headline\":\"REL Digital Lab\",\"url\":\"/\",\"description\":\"Experiments in Digital Humanities and the Social Theory of Religion at the University of Alabama.\",\"@type\":\"WebSite\",\"name\":\"REL Digital Lab\",\"@context\":\"https://schema.org\"}\n",
            "     </script>\n",
            "     <!-- End Jekyll SEO tag -->\n",
            "     <link href=\"/feed.xml\" rel=\"alternate\" title=\"REL Digital Lab\" type=\"application/rss+xml\">\n",
            "     </link>\n",
            "    </meta>\n",
            "   </meta>\n",
            "  </meta>\n",
            " </head>\n",
            " <body>\n",
            "  <nav class=\"navbar navbar-default navbar-fixed-top\">\n",
            "   <div class=\"container navbar-container\">\n",
            "    <div class=\"navbar-header\">\n",
            "     <button aria-controls=\"navbar\" aria-expanded=\"false\" class=\"navbar-toggle collapsed\" data-target=\"#navbar\" data-toggle=\"collapse\" type=\"button\">\n",
            "      <span class=\"sr-only\">\n",
            "       Toggle navigation\n",
            "      </span>\n",
            "      <span class=\"icon-bar\">\n",
            "      </span>\n",
            "      <span class=\"icon-bar\">\n",
            "      </span>\n",
            "      <span class=\"icon-bar\">\n",
            "      </span>\n",
            "     </button>\n",
            "     <a class=\"navbar-brand\" href=\"/\">\n",
            "      <span>\n",
            "       <img alt=\"REL Digital Lab\" src=\"/assets/img/logonav.png\"/>\n",
            "      </span>\n",
            "     </a>\n",
            "    </div>\n",
            "    <div class=\"collapse navbar-collapse\" id=\"navbar\">\n",
            "     <ul class=\"nav navbar-nav\">\n",
            "      <li>\n",
            "       <a href=\"/projects/\">\n",
            "        Projects\n",
            "       </a>\n",
            "      </li>\n",
            "      <li>\n",
            "       <a href=\"/docs/home/\">\n",
            "        Resources\n",
            "       </a>\n",
            "      </li>\n",
            "      <li>\n",
            "       <a href=\"/blog/2021/08/17/launching-the-lab/\">\n",
            "        News\n",
            "       </a>\n",
            "      </li>\n",
            "      <li>\n",
            "       <a href=\"/about/\">\n",
            "        About\n",
            "       </a>\n",
            "      </li>\n",
            "      <li>\n",
            "       <a href=\"/visit/\">\n",
            "        Visit\n",
            "       </a>\n",
            "      </li>\n",
            "     </ul>\n",
            "     <div class=\"navbar-right\">\n",
            "      <form class=\"navbar-form navbar-left\">\n",
            "       <div class=\"form-group has-feedback\">\n",
            "        <input class=\"form-control\" id=\"search-box\" placeholder=\"Search...\" type=\"search\"/>\n",
            "        <i class=\"fa fa-search form-control-feedback\">\n",
            "        </i>\n",
            "       </div>\n",
            "      </form>\n",
            "      <ul class=\"nav navbar-nav\">\n",
            "       <li>\n",
            "        <a href=\"https://github.com/RELDigitalLab\">\n",
            "         <i aria-hidden=\"true\" class=\"fa fa-github\">\n",
            "         </i>\n",
            "        </a>\n",
            "       </li>\n",
            "      </ul>\n",
            "     </div>\n",
            "    </div>\n",
            "   </div>\n",
            "  </nav>\n",
            "  <div class=\"page-content\">\n",
            "   <div class=\"wrapper\">\n",
            "    <div class=\"header-container jumbotron\">\n",
            "     <div class=\"container\">\n",
            "      <h1>\n",
            "       Welcome to the REL Digital Lab\n",
            "      </h1>\n",
            "      <p>\n",
            "       Computational Methods and Resources for Studying Religion\n",
            "       <em>\n",
            "        in\n",
            "       </em>\n",
            "       Culture\n",
            "      </p>\n",
            "      <p>\n",
            "       <a class=\"btn btn-primary btn-lg\" href=\"/about/\" role=\"button\">\n",
            "        Learn more\n",
            "       </a>\n",
            "      </p>\n",
            "     </div>\n",
            "    </div>\n",
            "    <div class=\"container\">\n",
            "     <div class=\"row\">\n",
            "      <div class=\"col-md-6\">\n",
            "       <h2 class=\"header-light regular-pad\">\n",
            "        Who Are We?\n",
            "       </h2>\n",
            "       <p class=\"lead\">\n",
            "        The REL Digital Lab is a collaborative space for digital humanities work in the\n",
            "        <a href=\"https://religion.ua.edu/\">\n",
            "         Department of Religious Studies\n",
            "        </a>\n",
            "        .\n",
            "       </p>\n",
            "       <p class=\"lead\">\n",
            "        Located in Presidents Hall 200-A, the REL\n",
            "        <i>\n",
            "         dl\n",
            "        </i>\n",
            "        provides computing resources and project planning support for the departmentâs teaching and research contributions to the digital humanities initiatives in the\n",
            "        <a href=\"https://as.ua.edu/\">\n",
            "         College of Arts and Sciences\n",
            "        </a>\n",
            "        at the\n",
            "        <a href=\"https://www.ua.edu/\">\n",
            "         University of Alabama\n",
            "        </a>\n",
            "        .\n",
            "       </p>\n",
            "       <p class=\"lead\">\n",
            "        Visit our\n",
            "        <a href=\"/docs/home/\">\n",
            "         Resources page\n",
            "        </a>\n",
            "        for more information.\n",
            "       </p>\n",
            "      </div>\n",
            "      <div class=\"col-md-6 text-center\">\n",
            "       <img alt=\"Woman looking through card catalog\" class=\"img-responsive\" src=\"/assets/img/LoC-cardCatalog.jpg\"/>\n",
            "      </div>\n",
            "     </div>\n",
            "     <hr/>\n",
            "     <div class=\"row\">\n",
            "      <div class=\"col-sm-4\">\n",
            "       <a href=\"/projects/\">\n",
            "        <h1 class=\"text-center\">\n",
            "         <i aria-hidden=\"true\" class=\"fas fa-project-diagram\">\n",
            "         </i>\n",
            "        </h1>\n",
            "        <h3 class=\"text-center\">\n",
            "         DH Projects in REL\n",
            "        </h3>\n",
            "       </a>\n",
            "       <p>\n",
            "        Explore the digital scholarship of the REL faculty.\n",
            "       </p>\n",
            "      </div>\n",
            "      <div class=\"col-sm-4\">\n",
            "       <a href=\"/docs/hardware\">\n",
            "        <h1 class=\"text-center\">\n",
            "         <i aria-hidden=\"true\" class=\"fas fa-microphone\">\n",
            "         </i>\n",
            "        </h1>\n",
            "        <h3 class=\"text-center\">\n",
            "         Lab Technologies\n",
            "        </h3>\n",
            "       </a>\n",
            "       <p>\n",
            "        Resources available for supporting digital scholarship in the study of religion.\n",
            "       </p>\n",
            "      </div>\n",
            "      <div class=\"col-sm-4\">\n",
            "       <a href=\"/docs/tutorials-overview\">\n",
            "        <h1 class=\"text-center\">\n",
            "         <i aria-hidden=\"true\" class=\"fas fa-chalkboard\">\n",
            "         </i>\n",
            "        </h1>\n",
            "        <h3 class=\"text-center\">\n",
            "         Getting Started with DH\n",
            "        </h3>\n",
            "       </a>\n",
            "       <p>\n",
            "        Learn new skills and introduce students to digital methods for the humanities.\n",
            "       </p>\n",
            "      </div>\n",
            "     </div>\n",
            "    </div>\n",
            "   </div>\n",
            "  </div>\n",
            "  <footer class=\"footer\">\n",
            "   <div class=\"container\">\n",
            "    <p class=\"text-center\">\n",
            "     REL Digital Lab 2021 |\n",
            "            Powered by\n",
            "     <a href=\"https://github.com/aksakalli/jekyll-doc-theme\">\n",
            "      Jekyll Doc Theme\n",
            "     </a>\n",
            "    </p>\n",
            "    <!-- <p class=\"text-muted\">Place sticky footer content here.</p> -->\n",
            "   </div>\n",
            "  </footer>\n",
            "  <script>\n",
            "   var baseurl = ''\n",
            "  </script>\n",
            "  <script src=\"https://code.jquery.com/jquery-1.12.4.min.js\">\n",
            "  </script>\n",
            "  <script src=\"/assets/js/bootstrap.min.js \">\n",
            "  </script>\n",
            "  <script src=\"/assets/js/typeahead.bundle.min.js \">\n",
            "  </script>\n",
            "  <script src=\"/assets/js/main.js \">\n",
            "  </script>\n",
            " </body>\n",
            "</html>\n",
            "\n"
          ]
        }
      ]
    },
    {
      "cell_type": "code",
      "metadata": {
        "colab": {
          "base_uri": "https://localhost:8080/"
        },
        "id": "Lp5oB6-ovWcn",
        "outputId": "54b45e86-d491-4cc0-a62f-e25a4f79ede4"
      },
      "source": [
        "# Or we can request all of the links from the page\n",
        "\n",
        "soup.find_all('a')"
      ],
      "execution_count": 12,
      "outputs": [
        {
          "output_type": "execute_result",
          "data": {
            "text/plain": [
              "[<a class=\"navbar-brand\" href=\"/\">\n",
              " <span><img alt=\"REL Digital Lab\" src=\"/assets/img/logonav.png\"/></span>\n",
              " </a>,\n",
              " <a href=\"/projects/\">Projects</a>,\n",
              " <a href=\"/docs/home/\">Resources</a>,\n",
              " <a href=\"/blog/2021/08/17/launching-the-lab/\">News</a>,\n",
              " <a href=\"/about/\">About</a>,\n",
              " <a href=\"/visit/\">Visit</a>,\n",
              " <a href=\"https://github.com/RELDigitalLab\"><i aria-hidden=\"true\" class=\"fa fa-github\"></i></a>,\n",
              " <a class=\"btn btn-primary btn-lg\" href=\"/about/\" role=\"button\">Learn more</a>,\n",
              " <a href=\"https://religion.ua.edu/\">Department of Religious Studies</a>,\n",
              " <a href=\"https://as.ua.edu/\">College of Arts and Sciences</a>,\n",
              " <a href=\"https://www.ua.edu/\">University of Alabama</a>,\n",
              " <a href=\"/docs/home/\">Resources page</a>,\n",
              " <a href=\"/projects/\">\n",
              " <h1 class=\"text-center\"><i aria-hidden=\"true\" class=\"fas fa-project-diagram\"></i></h1>\n",
              " <h3 class=\"text-center\">DH Projects in REL</h3>\n",
              " </a>,\n",
              " <a href=\"/docs/hardware\">\n",
              " <h1 class=\"text-center\"><i aria-hidden=\"true\" class=\"fas fa-microphone\"></i></h1>\n",
              " <h3 class=\"text-center\">Lab Technologies</h3>\n",
              " </a>,\n",
              " <a href=\"/docs/tutorials-overview\">\n",
              " <h1 class=\"text-center\"><i aria-hidden=\"true\" class=\"fas fa-chalkboard\"></i></h1>\n",
              " <h3 class=\"text-center\">Getting Started with DH</h3>\n",
              " </a>,\n",
              " <a href=\"https://github.com/aksakalli/jekyll-doc-theme\">Jekyll Doc Theme</a>]"
            ]
          },
          "metadata": {},
          "execution_count": 12
        }
      ]
    },
    {
      "cell_type": "markdown",
      "metadata": {
        "id": "pzezTpNWvjhP"
      },
      "source": [
        "Most of coding is combining elements in different ways to get a job done. Similar to cooking - you have ingredients that you combine. Very rarely do you grow and raise all of the elements that make up a dish. \n",
        "\n",
        "The key to using libraries is to use their documentation. Look at the docs for Requests and Beautiful Soup and try out one or two additional functions on this or another web page.\n",
        "- https://www.crummy.com/software/BeautifulSoup/bs4/doc/\n",
        "- https://docs.python-requests.org/en/latest/user/quickstart/\n"
      ]
    },
    {
      "cell_type": "code",
      "metadata": {
        "id": "8mfrPSXvwdMK"
      },
      "source": [
        ""
      ],
      "execution_count": null,
      "outputs": []
    }
  ]
}
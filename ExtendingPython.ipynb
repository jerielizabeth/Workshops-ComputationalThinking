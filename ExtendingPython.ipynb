{
  "nbformat": 4,
  "nbformat_minor": 0,
  "metadata": {
    "colab": {
      "name": "ExtendingPython.ipynb",
      "provenance": [],
      "authorship_tag": "ABX9TyP9Pw8YBnkqQ04Zm80Db2aL",
      "include_colab_link": true
    },
    "kernelspec": {
      "name": "python3",
      "display_name": "Python 3"
    },
    "language_info": {
      "name": "python"
    }
  },
  "cells": [
    {
      "cell_type": "markdown",
      "metadata": {
        "id": "view-in-github",
        "colab_type": "text"
      },
      "source": [
        "<a href=\"https://colab.research.google.com/github/jerielizabeth/Workshops-ComputationalThinking/blob/main/ExtendingPython.ipynb\" target=\"_parent\"><img src=\"https://colab.research.google.com/assets/colab-badge.svg\" alt=\"Open In Colab\"/></a>"
      ]
    },
    {
      "cell_type": "markdown",
      "metadata": {
        "id": "CsnY_IdBqk1v"
      },
      "source": [
        "Libraries let people develop solutions to different programming problems and then share their process with others. \n",
        "\n",
        "We do that using the `import` command, and then the library name. (Sometimes we also assign the library to a new variable if it's long.)\n",
        "\n",
        "For example, Beautiful Soup is a library for accessing and parsing HTML documents. We can pull Beautiful Soup and use all of its component functions for our work."
      ]
    },
    {
      "cell_type": "code",
      "metadata": {
        "id": "qu86OtrmrzrT"
      },
      "source": [
        "from bs4 import BeautifulSoup"
      ],
      "execution_count": null,
      "outputs": []
    },
    {
      "cell_type": "markdown",
      "metadata": {
        "id": "Aeoy70QStC4x"
      },
      "source": [
        "We also need a way to access HTML documents from the web. For that we need another library, URLLib. "
      ]
    },
    {
      "cell_type": "code",
      "metadata": {
        "id": "_VRITz3UtB70"
      },
      "source": [
        "import requests"
      ],
      "execution_count": null,
      "outputs": []
    },
    {
      "cell_type": "code",
      "metadata": {
        "id": "T3kzW1e4tv9m"
      },
      "source": [
        "r = requests.get('http://digitallab.religion.ua.edu/')"
      ],
      "execution_count": null,
      "outputs": []
    },
    {
      "cell_type": "code",
      "metadata": {
        "id": "LC-JUTG_t7se"
      },
      "source": [
        "r.text"
      ],
      "execution_count": null,
      "outputs": []
    },
    {
      "cell_type": "markdown",
      "metadata": {
        "id": "g9SXilzwuIo8"
      },
      "source": [
        "Now we have the content of an HTML page. What if we want to find all of the links in the document? For that, we can use Beautiful Soup."
      ]
    },
    {
      "cell_type": "code",
      "metadata": {
        "id": "238Dk7Scuw4B"
      },
      "source": [
        "# First we pass the whole HTML object to Beautiful Soup\n",
        "soup = BeautifulSoup(r.text, 'html.parser')\n",
        "\n",
        "# Then we can start to do things"
      ],
      "execution_count": null,
      "outputs": []
    },
    {
      "cell_type": "code",
      "metadata": {
        "id": "uAuGXUGkvHLU"
      },
      "source": [
        "# Such as, we make the HTML text pretty\n",
        "print(soup.prettify())"
      ],
      "execution_count": null,
      "outputs": []
    },
    {
      "cell_type": "code",
      "metadata": {
        "id": "Lp5oB6-ovWcn"
      },
      "source": [
        "# Or we can request all of the links from the page\n",
        "\n",
        "soup.find_all('a')"
      ],
      "execution_count": null,
      "outputs": []
    },
    {
      "cell_type": "markdown",
      "metadata": {
        "id": "pzezTpNWvjhP"
      },
      "source": [
        "Most of coding is combining elements in different ways to get a job done. Similar to cooking - you have ingredients that you combine. Very rarely do you grow and raise all of the elements that make up a dish. \n",
        "\n",
        "The key to using libraries is to use their documentation. Look at the docs for Beautiful Soup and try out one or two additional functions on this or another web page.\n",
        "- https://www.crummy.com/software/BeautifulSoup/bs4/doc/\n"
      ]
    },
    {
      "cell_type": "code",
      "metadata": {
        "id": "8mfrPSXvwdMK"
      },
      "source": [
        ""
      ],
      "execution_count": null,
      "outputs": []
    }
  ]
}
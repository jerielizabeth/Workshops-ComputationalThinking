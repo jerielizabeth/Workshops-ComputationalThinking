{
  "nbformat": 4,
  "nbformat_minor": 0,
  "metadata": {
    "colab": {
      "name": "Python101.ipynb",
      "provenance": [],
      "authorship_tag": "ABX9TyPAnogb1rNsoFazNsfZjv24",
      "include_colab_link": true
    },
    "kernelspec": {
      "name": "python3",
      "display_name": "Python 3"
    },
    "language_info": {
      "name": "python"
    }
  },
  "cells": [
    {
      "cell_type": "markdown",
      "metadata": {
        "id": "view-in-github",
        "colab_type": "text"
      },
      "source": [
        "<a href=\"https://colab.research.google.com/github/jerielizabeth/Workshops-ComputationalThinking/blob/main/Python101.ipynb\" target=\"_parent\"><img src=\"https://colab.research.google.com/assets/colab-badge.svg\" alt=\"Open In Colab\"/></a>"
      ]
    },
    {
      "cell_type": "code",
      "metadata": {
        "id": "fy5f-DbNBj6v"
      },
      "source": [
        "from IPython.display import Image"
      ],
      "execution_count": 2,
      "outputs": []
    },
    {
      "cell_type": "markdown",
      "metadata": {
        "id": "uotCYHJx8ZfT"
      },
      "source": [
        "# Welcome to Python\n",
        "\n",
        "One of the best way to start wrapping your mind around computational thinking is to start trying to use code to get the computer to do things. We are going to use a language called Python to do that. \n",
        "\n",
        "More on why Python later. To start, we are going to learn some terms and concepts that generally apply across computer languages and give you some basic frameworks for starting to break things into smaller pieces and to think about how you need to structure process so that a computer can do work for you efficiently and reliably."
      ]
    },
    {
      "cell_type": "code",
      "metadata": {
        "colab": {
          "base_uri": "https://localhost:8080/",
          "height": 276
        },
        "id": "csl-AQ1D84M-",
        "outputId": "a1ae5c6d-d52f-429b-abcb-42295408dbc8"
      },
      "source": [
        "Image(url='https://media.giphy.com/media/ZacldScZWaiBi/giphy.gif')"
      ],
      "execution_count": 3,
      "outputs": [
        {
          "output_type": "execute_result",
          "data": {
            "text/html": [
              "<img src=\"https://media.giphy.com/media/ZacldScZWaiBi/giphy.gif\"/>"
            ],
            "text/plain": [
              "<IPython.core.display.Image object>"
            ]
          },
          "metadata": {},
          "execution_count": 3
        }
      ]
    },
    {
      "cell_type": "markdown",
      "metadata": {
        "id": "krzYD5jJ87xy"
      },
      "source": [
        "# Variables\n",
        "\n",
        "One of the first things to learn when learning to code is the \"variable\". A \"variable\" is a single word (or connected phrase) that we use to represent something else, and usually that something is complicated.\n",
        "\n",
        "This is not entirely dissimilar to a word and its definition - the word \"pipe\" is used to designate, among other things, \"A narrow tube of clay, wood, or other material, with a bowl at one end, for drawing in the smoke of tobacco (or other narcotic or medicinal substance). Often used as including the contained tobacco, etc., as in to light one's pipe, to smoke a pipe; also for a quantity which fills the bowl and is smoked at one time, a pipeful.\" (OED) \n",
        "\n",
        "We use \"pipe\" as a signifier to communicate about the signified concept of a tube for smoking, which has some relationship (maybe) to a thing in the world (referent). \n",
        "\n"
      ]
    },
    {
      "cell_type": "code",
      "metadata": {
        "colab": {
          "base_uri": "https://localhost:8080/",
          "height": 257
        },
        "id": "REG6RTTmCoP3",
        "outputId": "5b326b91-210c-4841-a267-4fb0d94649e7"
      },
      "source": [
        "Image(url=\"https://media.giphy.com/media/tGQFAuLzsabkI/giphy.gif\")"
      ],
      "execution_count": 4,
      "outputs": [
        {
          "output_type": "execute_result",
          "data": {
            "text/html": [
              "<img src=\"https://media.giphy.com/media/tGQFAuLzsabkI/giphy.gif\"/>"
            ],
            "text/plain": [
              "<IPython.core.display.Image object>"
            ]
          },
          "metadata": {},
          "execution_count": 4
        }
      ]
    },
    {
      "cell_type": "markdown",
      "metadata": {
        "id": "pITcBQnCD92J"
      },
      "source": [
        "In coding, with a few exceptions, we have to define our signifiers and the signified. The language has a few terms defined for us - [these are reserved keywords](https://realpython.com/lessons/reserved-keywords/) and they refer to basic concepts that make the language work. \n",
        "\n",
        "Additionally, we can use vocabularies created by other people. We will talk about this later when we talk about libraries, but we don't necessary have to define **everything**. Rather a lot of coding is combining things that other people have creating. "
      ]
    },
    {
      "cell_type": "markdown",
      "metadata": {
        "id": "biP24Lm4GMhW"
      },
      "source": [
        "## How Variables Work"
      ]
    },
    {
      "cell_type": "markdown",
      "metadata": {
        "id": "Qr46zl23GJQS"
      },
      "source": [
        "## Practice"
      ]
    },
    {
      "cell_type": "markdown",
      "metadata": {
        "id": "jzaQansi8-lT"
      },
      "source": [
        "# Data Types\n",
        "\n",
        "## Strings"
      ]
    },
    {
      "cell_type": "markdown",
      "metadata": {
        "id": "lZvKAnBi9MTw"
      },
      "source": [
        "## Numbers"
      ]
    },
    {
      "cell_type": "markdown",
      "metadata": {
        "id": "nj5xbItB9PDJ"
      },
      "source": [
        "## Sequences"
      ]
    },
    {
      "cell_type": "markdown",
      "metadata": {
        "id": "J-aU3Xgl9R4w"
      },
      "source": [
        "## Dictionaries"
      ]
    },
    {
      "cell_type": "markdown",
      "metadata": {
        "id": "77pYmrFj9T-V"
      },
      "source": [
        "# Loops"
      ]
    },
    {
      "cell_type": "markdown",
      "metadata": {
        "id": "g0U84CaK9e-6"
      },
      "source": [
        "# Logic"
      ]
    },
    {
      "cell_type": "markdown",
      "metadata": {
        "id": "qjalPGv-9gNJ"
      },
      "source": [
        "# Functions"
      ]
    },
    {
      "cell_type": "code",
      "metadata": {
        "id": "poZKHAQe9trk"
      },
      "source": [
        ""
      ],
      "execution_count": null,
      "outputs": []
    }
  ]
}
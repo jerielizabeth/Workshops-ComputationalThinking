{
  "nbformat": 4,
  "nbformat_minor": 0,
  "metadata": {
    "colab": {
      "name": "CommonErrorMessages.ipynb",
      "provenance": [],
      "collapsed_sections": [],
      "authorship_tag": "ABX9TyMlI6YkYbzFW9gGylIKbIcZ",
      "include_colab_link": true
    },
    "kernelspec": {
      "name": "python3",
      "display_name": "Python 3"
    },
    "language_info": {
      "name": "python"
    }
  },
  "cells": [
    {
      "cell_type": "markdown",
      "metadata": {
        "id": "view-in-github",
        "colab_type": "text"
      },
      "source": [
        "<a href=\"https://colab.research.google.com/github/jerielizabeth/Workshops-ComputationalThinking/blob/main/CommonErrorMessages.ipynb\" target=\"_parent\"><img src=\"https://colab.research.google.com/assets/colab-badge.svg\" alt=\"Open In Colab\"/></a>"
      ]
    },
    {
      "cell_type": "markdown",
      "metadata": {
        "id": "nvNgIQDw09He"
      },
      "source": [
        "Python lets you know (loudly) if you do something it does not like or does not understand. Learning to code is learning how to communicate with your computer and to deciper its responses. \n",
        "\n",
        "There are a number of common errors that you will make as you learn. Here are some of the error responses you are likely to see and how to go about fixing them."
      ]
    },
    {
      "cell_type": "markdown",
      "metadata": {
        "id": "teG_ReqG1ZPL"
      },
      "source": [
        "# Typos\n",
        "\n",
        "You will make typos, but unlike a human reader who can intuit that you meant pipe, not piipe, the computer is not so smart. "
      ]
    },
    {
      "cell_type": "code",
      "metadata": {
        "colab": {
          "base_uri": "https://localhost:8080/",
          "height": 191
        },
        "id": "Sc03j4Is0vdz",
        "outputId": "52773032-6787-45ba-ff54-beb3e1d2e3ee"
      },
      "source": [
        "pipe = \"A tube for the smoking of Longbottom Leaf\"\n",
        "piipe"
      ],
      "execution_count": null,
      "outputs": [
        {
          "output_type": "error",
          "ename": "NameError",
          "evalue": "ignored",
          "traceback": [
            "\u001b[0;31m---------------------------------------------------------------------------\u001b[0m",
            "\u001b[0;31mNameError\u001b[0m                                 Traceback (most recent call last)",
            "\u001b[0;32m<ipython-input-1-5f768a24f9d8>\u001b[0m in \u001b[0;36m<module>\u001b[0;34m()\u001b[0m\n\u001b[1;32m      1\u001b[0m \u001b[0mpipe\u001b[0m \u001b[0;34m=\u001b[0m \u001b[0;34m\"A tube for the smoking of Longbottom Leaf\"\u001b[0m\u001b[0;34m\u001b[0m\u001b[0;34m\u001b[0m\u001b[0m\n\u001b[0;32m----> 2\u001b[0;31m \u001b[0mpiipe\u001b[0m\u001b[0;34m\u001b[0m\u001b[0;34m\u001b[0m\u001b[0m\n\u001b[0m",
            "\u001b[0;31mNameError\u001b[0m: name 'piipe' is not defined"
          ]
        }
      ]
    },
    {
      "cell_type": "markdown",
      "metadata": {
        "id": "wya0dDNT2Sg1"
      },
      "source": [
        "Note the last line tell you the type of error, followed by the variable name that the computer did not recognize. \n",
        "\n",
        "If you get the above error, make sure your names are consistent and error free.\n",
        "\n",
        "Try to fix the above loop."
      ]
    },
    {
      "cell_type": "markdown",
      "metadata": {
        "id": "ZyDJo3so2lbd"
      },
      "source": [
        "# Indent Errors\n",
        "\n",
        "In Python, we indicate sub-processes or dependent processes with indentation. It makes the code nice to read, but it is very easy to end up with indentation errors, especially if you are copy/pasting from somewhere else or if you make a change to your code and need to readjust the sequence of your steps."
      ]
    },
    {
      "cell_type": "code",
      "metadata": {
        "colab": {
          "base_uri": "https://localhost:8080/",
          "height": 136
        },
        "id": "f4GjXrej3djS",
        "outputId": "f04073ae-8ec6-4302-84ed-5a66571b95e7"
      },
      "source": [
        "for each in range(10):\n",
        "  # This is a modul0 operator - it returns the remainder of a division problem.\n",
        "  if each % 2 == 0: \n",
        "  print(f\"{each} is even!\")"
      ],
      "execution_count": null,
      "outputs": [
        {
          "output_type": "error",
          "ename": "IndentationError",
          "evalue": "ignored",
          "traceback": [
            "\u001b[0;36m  File \u001b[0;32m\"<ipython-input-3-b2c78cf76f7a>\"\u001b[0;36m, line \u001b[0;32m4\u001b[0m\n\u001b[0;31m    print(f\"{each} is even!\")\u001b[0m\n\u001b[0m        ^\u001b[0m\n\u001b[0;31mIndentationError\u001b[0m\u001b[0;31m:\u001b[0m expected an indented block\n"
          ]
        }
      ]
    },
    {
      "cell_type": "markdown",
      "metadata": {
        "id": "P48oPG5R3v1V"
      },
      "source": [
        "Again, look at the last line. It tells us we have an indentation error and shows us which line with the \"^\" symbol. \n",
        "\n",
        "Try to fix the above loop."
      ]
    },
    {
      "cell_type": "markdown",
      "metadata": {
        "id": "PxBg_LRs4TmW"
      },
      "source": [
        "# Syntax Errors - Invalid Syntax\n",
        "\n",
        "There are quite a few ways to get a syntax error. If your error says \"invalid syntax\" it is because you have broken a Python grammar rule. \n",
        "\n",
        "Three of the most common ways to trigger this error are:\n",
        "\n",
        "- forgetting to include a \":\" at the end of the line that uses logical indicators, such as `if`, `elif`, `else`, `for`, `while`, `class`, or `def`\n",
        "- using `=` when you are trying to verify Truth value (use `==` instead)\n",
        "- trying to use a keyword as a variable name.\n"
      ]
    },
    {
      "cell_type": "code",
      "metadata": {
        "colab": {
          "base_uri": "https://localhost:8080/",
          "height": 136
        },
        "id": "8LE0Mr1G63kL",
        "outputId": "cb41c5aa-2ac7-4862-bd03-d377fd01b7b8"
      },
      "source": [
        "for each in range(10)\n",
        "  if each = 4:\n",
        "    print(f'{each} is 4')\n",
        "  else:\n",
        "    print(\"Not 4\")"
      ],
      "execution_count": null,
      "outputs": [
        {
          "output_type": "error",
          "ename": "SyntaxError",
          "evalue": "ignored",
          "traceback": [
            "\u001b[0;36m  File \u001b[0;32m\"<ipython-input-5-f3e987434bff>\"\u001b[0;36m, line \u001b[0;32m1\u001b[0m\n\u001b[0;31m    for each in range(10)\u001b[0m\n\u001b[0m                         ^\u001b[0m\n\u001b[0;31mSyntaxError\u001b[0m\u001b[0;31m:\u001b[0m invalid syntax\n"
          ]
        }
      ]
    },
    {
      "cell_type": "markdown",
      "metadata": {
        "id": "bXpdJitF7OKG"
      },
      "source": [
        "The \"^\" can give a rough approximation of where the interpreter thinks the error might be.\n",
        "\n",
        "Try to fix the above code."
      ]
    },
    {
      "cell_type": "markdown",
      "metadata": {
        "id": "lTAljej-7dL9"
      },
      "source": [
        "# Syntax Errors - EOL while scanning string literal\n",
        "\n",
        "If you work with strings, you will likely run into this error at some point. An EOL (End of Line) error occurs when you forget to close a string with quotation mark or if you mis-match a `'` and a `\"` in wrapping your strings."
      ]
    },
    {
      "cell_type": "code",
      "metadata": {
        "colab": {
          "base_uri": "https://localhost:8080/",
          "height": 136
        },
        "id": "Hlc0q1nu8ESM",
        "outputId": "8e7104ee-bd8c-4295-90c1-45bdeedc488d"
      },
      "source": [
        "print('End of line errors make for a sad day.\")"
      ],
      "execution_count": null,
      "outputs": [
        {
          "output_type": "error",
          "ename": "SyntaxError",
          "evalue": "ignored",
          "traceback": [
            "\u001b[0;36m  File \u001b[0;32m\"<ipython-input-6-e0256ea1fc58>\"\u001b[0;36m, line \u001b[0;32m1\u001b[0m\n\u001b[0;31m    print('End of line errors make for a sad day.\")\u001b[0m\n\u001b[0m                                                   ^\u001b[0m\n\u001b[0;31mSyntaxError\u001b[0m\u001b[0;31m:\u001b[0m EOL while scanning string literal\n"
          ]
        }
      ]
    },
    {
      "cell_type": "markdown",
      "metadata": {
        "id": "c3EyNwBQ8Itq"
      },
      "source": [
        "The carrot on this code is likely to be at the very end of the line, which is not always helpful. But if it is an EOL error, check your strings and your quotes.\n",
        "\n",
        "Try to fix the above code."
      ]
    },
    {
      "cell_type": "markdown",
      "metadata": {
        "id": "JMviUfNP8YBS"
      },
      "source": [
        "# Type Errors\n",
        "\n",
        "There are a whole range of type errors you can get if you try to use a function that is not supported by the type of data you have or you are trying to combine things that are two different types.\n",
        "\n",
        "For example, while you can modify items in a list by their position, strings are \"immutable\" meaning they cannot be modified that way."
      ]
    },
    {
      "cell_type": "code",
      "metadata": {
        "colab": {
          "base_uri": "https://localhost:8080/",
          "height": 245
        },
        "id": "ULz369ER-FSl",
        "outputId": "caeee27a-6620-4df1-c631-caeae7469bdf"
      },
      "source": [
        "print(pipe)\n",
        "print(pipe[5:6])\n",
        "pipe[6] = 'r '"
      ],
      "execution_count": null,
      "outputs": [
        {
          "output_type": "stream",
          "name": "stdout",
          "text": [
            "A tube for the smoking of Longbottom Leaf\n",
            "e\n"
          ]
        },
        {
          "output_type": "error",
          "ename": "TypeError",
          "evalue": "ignored",
          "traceback": [
            "\u001b[0;31m---------------------------------------------------------------------------\u001b[0m",
            "\u001b[0;31mTypeError\u001b[0m                                 Traceback (most recent call last)",
            "\u001b[0;32m<ipython-input-10-ab4ffce4a30f>\u001b[0m in \u001b[0;36m<module>\u001b[0;34m()\u001b[0m\n\u001b[1;32m      1\u001b[0m \u001b[0mprint\u001b[0m\u001b[0;34m(\u001b[0m\u001b[0mpipe\u001b[0m\u001b[0;34m)\u001b[0m\u001b[0;34m\u001b[0m\u001b[0;34m\u001b[0m\u001b[0m\n\u001b[1;32m      2\u001b[0m \u001b[0mprint\u001b[0m\u001b[0;34m(\u001b[0m\u001b[0mpipe\u001b[0m\u001b[0;34m[\u001b[0m\u001b[0;36m5\u001b[0m\u001b[0;34m:\u001b[0m\u001b[0;36m6\u001b[0m\u001b[0;34m]\u001b[0m\u001b[0;34m)\u001b[0m\u001b[0;34m\u001b[0m\u001b[0;34m\u001b[0m\u001b[0m\n\u001b[0;32m----> 3\u001b[0;31m \u001b[0mpipe\u001b[0m\u001b[0;34m[\u001b[0m\u001b[0;36m6\u001b[0m\u001b[0;34m]\u001b[0m \u001b[0;34m=\u001b[0m \u001b[0;34m'r '\u001b[0m\u001b[0;34m\u001b[0m\u001b[0;34m\u001b[0m\u001b[0m\n\u001b[0m",
            "\u001b[0;31mTypeError\u001b[0m: 'str' object does not support item assignment"
          ]
        }
      ]
    },
    {
      "cell_type": "markdown",
      "metadata": {
        "id": "_tDY4M31_UQx"
      },
      "source": [
        "Another common way to trigger this kind of error is by trying to combine two different types of data. You can add strings together, but you cannot combine two different datatypes - you have to convert them to the same type before you can combine them."
      ]
    },
    {
      "cell_type": "code",
      "metadata": {
        "colab": {
          "base_uri": "https://localhost:8080/",
          "height": 245
        },
        "id": "9IxgE_Mz-JZd",
        "outputId": "3c4f634a-1b5b-462e-88fd-07d38300c48f"
      },
      "source": [
        "print(pipe)\n",
        "print(pipe + \", the finest leaf in the South Farthing.\")\n",
        "print(pipe + \", the finest leaf. \" + 100)"
      ],
      "execution_count": null,
      "outputs": [
        {
          "output_type": "stream",
          "name": "stdout",
          "text": [
            "A tube for the smoking of Longbottom Leaf\n",
            "A tube for the smoking of Longbottom Leaf, the finest leaf in the South Farthing.\n"
          ]
        },
        {
          "output_type": "error",
          "ename": "TypeError",
          "evalue": "ignored",
          "traceback": [
            "\u001b[0;31m---------------------------------------------------------------------------\u001b[0m",
            "\u001b[0;31mTypeError\u001b[0m                                 Traceback (most recent call last)",
            "\u001b[0;32m<ipython-input-11-22e487a0e3d0>\u001b[0m in \u001b[0;36m<module>\u001b[0;34m()\u001b[0m\n\u001b[1;32m      1\u001b[0m \u001b[0mprint\u001b[0m\u001b[0;34m(\u001b[0m\u001b[0mpipe\u001b[0m\u001b[0;34m)\u001b[0m\u001b[0;34m\u001b[0m\u001b[0;34m\u001b[0m\u001b[0m\n\u001b[1;32m      2\u001b[0m \u001b[0mprint\u001b[0m\u001b[0;34m(\u001b[0m\u001b[0mpipe\u001b[0m \u001b[0;34m+\u001b[0m \u001b[0;34m\", the finest leaf in the South Farthing.\"\u001b[0m\u001b[0;34m)\u001b[0m\u001b[0;34m\u001b[0m\u001b[0;34m\u001b[0m\u001b[0m\n\u001b[0;32m----> 3\u001b[0;31m \u001b[0mprint\u001b[0m\u001b[0;34m(\u001b[0m\u001b[0mpipe\u001b[0m \u001b[0;34m+\u001b[0m \u001b[0;34m\", the finest leaf. \"\u001b[0m \u001b[0;34m+\u001b[0m \u001b[0;36m100\u001b[0m\u001b[0;34m)\u001b[0m\u001b[0;34m\u001b[0m\u001b[0;34m\u001b[0m\u001b[0m\n\u001b[0m",
            "\u001b[0;31mTypeError\u001b[0m: can only concatenate str (not \"int\") to str"
          ]
        }
      ]
    },
    {
      "cell_type": "markdown",
      "metadata": {
        "id": "LZn-nDiU_N98"
      },
      "source": [
        "Try to fix the above errors.\n"
      ]
    },
    {
      "cell_type": "markdown",
      "metadata": {
        "id": "8IbEjQYZ_tAt"
      },
      "source": [
        "# Looking for more help\n",
        "\n",
        "If you get an error message, look for that bottom message of the type of error. Usually a search on Stack Overflow for the error type will get you started in the right direction.\n",
        "\n",
        "# Resources\n",
        "- https://inventwithpython.com/blog/2012/07/09/16-common-python-runtime-errors-beginners-find/\n",
        "- https://melaniewalsh.github.io/Intro-Cultural-Analytics/02-Python/13-Common-Python-Errors.html\n"
      ]
    },
    {
      "cell_type": "code",
      "metadata": {
        "id": "_x68rNuIAEqb"
      },
      "source": [
        ""
      ],
      "execution_count": null,
      "outputs": []
    }
  ]
}
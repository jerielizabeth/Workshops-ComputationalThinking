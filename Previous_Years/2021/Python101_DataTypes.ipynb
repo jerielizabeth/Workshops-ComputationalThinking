{
  "nbformat": 4,
  "nbformat_minor": 0,
  "metadata": {
    "colab": {
      "name": "Python101-DataTypes.ipynb",
      "provenance": [],
      "authorship_tag": "ABX9TyOC2XXWCqM3LBjZZIiYspYf",
      "include_colab_link": true
    },
    "kernelspec": {
      "name": "python3",
      "display_name": "Python 3"
    },
    "language_info": {
      "name": "python"
    }
  },
  "cells": [
    {
      "cell_type": "markdown",
      "metadata": {
        "id": "view-in-github",
        "colab_type": "text"
      },
      "source": [
        "<a href=\"https://colab.research.google.com/github/jerielizabeth/Workshops-ComputationalThinking/blob/main/Python101_DataTypes.ipynb\" target=\"_parent\"><img src=\"https://colab.research.google.com/assets/colab-badge.svg\" alt=\"Open In Colab\"/></a>"
      ]
    },
    {
      "cell_type": "markdown",
      "metadata": {
        "id": "rBiWyFBcXrMH"
      },
      "source": [
        "When working with computers, it is helpful to think about the different ways the computer thinks about data. Depending on the type of the data, the computer will be able to perform different types of operations, from calculations to transformations. \n"
      ]
    },
    {
      "cell_type": "markdown",
      "metadata": {
        "id": "Bs2d8GquXD9n"
      },
      "source": [
        "# Strings\n",
        "\n",
        "Strings are collections of letters and numbers - arbitrary blobs of text. Humanities scholars often have a lot of strings. If you do any text analysis, you will be working primarily with strings. \n",
        "\n",
        "You create a string by wrapping your text in quotation marks. For example"
      ]
    },
    {
      "cell_type": "code",
      "metadata": {
        "id": "ugNyFc_H3pXR"
      },
      "source": [
        "short_string = \"I am a short string.\"\n",
        "long_string = 'I am also a string, but I am a long string.'\n",
        "very_long_string = \"\"\"I am such a long string that I extend over multiple lines.\n",
        "Also, this way line return is preserved.\"\"\""
      ],
      "execution_count": 2,
      "outputs": []
    },
    {
      "cell_type": "markdown",
      "metadata": {
        "id": "xKNRsZ7M4KT1"
      },
      "source": [
        "You can also create special string that combine the content of variables together."
      ]
    },
    {
      "cell_type": "code",
      "metadata": {
        "colab": {
          "base_uri": "https://localhost:8080/"
        },
        "id": "U6gNdd8p4VhW",
        "outputId": "be082a37-5a7c-44f2-e0e2-e35fbb51b048"
      },
      "source": [
        "print(f\"{short_string}\\n{long_string}\\n{very_long_string}\")\n",
        "# This is an `f string` - a string where you can add variables, where the variables are contained in curly braces.\n",
        "# \\n is the symbol for new line or return. this is how you tell the computer to put a line break into a string."
      ],
      "execution_count": 4,
      "outputs": [
        {
          "output_type": "stream",
          "name": "stdout",
          "text": [
            "I am a short string.\n",
            "I am also a string, but I am a long string.\n",
            "I am such a long string that I extend over multiple lines.\n",
            "Also, this way line return is preserved.\n"
          ]
        }
      ]
    },
    {
      "cell_type": "markdown",
      "metadata": {
        "id": "VU9ivN7T4y0N"
      },
      "source": [
        "You can also do case transformations with strings."
      ]
    },
    {
      "cell_type": "code",
      "metadata": {
        "colab": {
          "base_uri": "https://localhost:8080/"
        },
        "id": "SZhIZJ7442KR",
        "outputId": "2c50c4be-b9ba-4082-9d70-20e53f18df53"
      },
      "source": [
        "print(short_string.upper())\n",
        "print(short_string.lower())"
      ],
      "execution_count": 10,
      "outputs": [
        {
          "output_type": "stream",
          "name": "stdout",
          "text": [
            "I AM A SHORT STRING.\n",
            "i am a short string.\n"
          ]
        }
      ]
    },
    {
      "cell_type": "markdown",
      "metadata": {
        "id": "CZadME955HrL"
      },
      "source": [
        "Try creating a new string and assign it to a variable. Try converting the case of your string."
      ]
    },
    {
      "cell_type": "code",
      "metadata": {
        "id": "2TyjwVk06Llw"
      },
      "source": [
        "# Your string here"
      ],
      "execution_count": null,
      "outputs": []
    },
    {
      "cell_type": "markdown",
      "metadata": {
        "id": "d_DCx6tqumuM"
      },
      "source": [
        "# Numbers\n"
      ]
    },
    {
      "cell_type": "markdown",
      "metadata": {
        "id": "ZJSX-5-m6REf"
      },
      "source": [
        "Numbers are numbers. Mostly. \n",
        "\n",
        "There are two main types of numbers in Python: integers (whole numbers) and floats (decimal numbers). \n",
        "\n",
        "Numbers do not go inside quotation marks. If you put a number in quotes, it is a string and math will not work.\n",
        "\n",
        "With numbers you can do addition (+), subtraction (-), multiplication (*), and division (/). "
      ]
    },
    {
      "cell_type": "code",
      "metadata": {
        "colab": {
          "base_uri": "https://localhost:8080/"
        },
        "id": "YQs6JXlL61Np",
        "outputId": "741d5763-3f13-48b1-e843-76ec4a0f1bb6"
      },
      "source": [
        "4*4"
      ],
      "execution_count": 11,
      "outputs": [
        {
          "output_type": "execute_result",
          "data": {
            "text/plain": [
              "16"
            ]
          },
          "metadata": {},
          "execution_count": 11
        }
      ]
    },
    {
      "cell_type": "code",
      "metadata": {
        "colab": {
          "base_uri": "https://localhost:8080/"
        },
        "id": "gimOAmNA7Pyq",
        "outputId": "add6e7fe-96c7-40d3-e767-e32df2e24ee1"
      },
      "source": [
        "25/3"
      ],
      "execution_count": 12,
      "outputs": [
        {
          "output_type": "execute_result",
          "data": {
            "text/plain": [
              "8.333333333333334"
            ]
          },
          "metadata": {},
          "execution_count": 12
        }
      ]
    },
    {
      "cell_type": "markdown",
      "metadata": {
        "id": "6a1pcbaY7qUk"
      },
      "source": [
        "\n",
        "Try out some math for yourself."
      ]
    },
    {
      "cell_type": "code",
      "metadata": {
        "id": "eA8DHrm07pfk"
      },
      "source": [
        "# Your maths here."
      ],
      "execution_count": null,
      "outputs": []
    },
    {
      "cell_type": "markdown",
      "metadata": {
        "id": "ywEBsAhdXG0S"
      },
      "source": [
        "# Lists\n",
        "\n",
        "Lists are one of the most powerful things for programming - they are collections of items (numbers, text from documents, random values.) \n",
        "\n",
        "Lists are enclosed with braces `[]` and the order is stable. \n"
      ]
    },
    {
      "cell_type": "code",
      "metadata": {
        "id": "l5yRhljB84AH"
      },
      "source": [
        "list_of_things = [\"thing 1\", \"thing 2\", \"thing 3\"]"
      ],
      "execution_count": 14,
      "outputs": []
    },
    {
      "cell_type": "markdown",
      "metadata": {
        "id": "0-ctCKV_8-BA"
      },
      "source": [
        "You can add things to lists"
      ]
    },
    {
      "cell_type": "code",
      "metadata": {
        "colab": {
          "base_uri": "https://localhost:8080/"
        },
        "id": "jrUtS8V59BBV",
        "outputId": "6da45ddb-4a4a-4d1c-c90b-1cc40b2b9a76"
      },
      "source": [
        "list_of_things.append(\"thing 4\")\n",
        "list_of_things"
      ],
      "execution_count": 15,
      "outputs": [
        {
          "output_type": "execute_result",
          "data": {
            "text/plain": [
              "['thing 1', 'thing 2', 'thing 3', 'thing 4']"
            ]
          },
          "metadata": {},
          "execution_count": 15
        }
      ]
    },
    {
      "cell_type": "markdown",
      "metadata": {
        "id": "-UVo0sPY9ICs"
      },
      "source": [
        "You can select items in a list using their position."
      ]
    },
    {
      "cell_type": "code",
      "metadata": {
        "colab": {
          "base_uri": "https://localhost:8080/",
          "height": 35
        },
        "id": "aKWRSV0m9Tw9",
        "outputId": "b7ccb198-e920-4fde-ac78-cdc89cf6dde5"
      },
      "source": [
        "list_of_things[2]"
      ],
      "execution_count": 16,
      "outputs": [
        {
          "output_type": "execute_result",
          "data": {
            "application/vnd.google.colaboratory.intrinsic+json": {
              "type": "string"
            },
            "text/plain": [
              "'thing 3'"
            ]
          },
          "metadata": {},
          "execution_count": 16
        }
      ]
    },
    {
      "cell_type": "markdown",
      "metadata": {
        "id": "fFqoZseX9W4X"
      },
      "source": [
        "Hmm. But why do get 'thing 3' when we asked for item 2?\n",
        "\n",
        "Python starts counting with 0. This means you have to subtract 1 from the position you think you want.\n",
        "\n",
        "Try creating a list and do something with it."
      ]
    },
    {
      "cell_type": "code",
      "metadata": {
        "id": "Uvewj4G1-GD6"
      },
      "source": [
        "# try creating lists here. "
      ],
      "execution_count": null,
      "outputs": []
    },
    {
      "cell_type": "markdown",
      "metadata": {
        "id": "7xykv9X1XGxp"
      },
      "source": [
        "# Dictionaries\n",
        "\n",
        "Where lists are an ordered collection of things, dictionaries are how Python handles key/value pairs. \n",
        "\n",
        "`dictionary_name = {\"key_name\": \"value\"}`"
      ]
    },
    {
      "cell_type": "code",
      "metadata": {
        "id": "WLP90UC-_YOJ"
      },
      "source": [
        "dict_of_things = {\"fruit\": \"apple\",\n",
        "                  \"vegetable\": \"celery\",\n",
        "                  \"dairy\": \"cheese\"\n",
        "                  }"
      ],
      "execution_count": 17,
      "outputs": []
    },
    {
      "cell_type": "markdown",
      "metadata": {
        "id": "kEiK1XqUAIao"
      },
      "source": [
        "With dictionaries, you can access values by the key."
      ]
    },
    {
      "cell_type": "code",
      "metadata": {
        "colab": {
          "base_uri": "https://localhost:8080/",
          "height": 35
        },
        "id": "VsRoUs4dAZEl",
        "outputId": "7abf4bfb-23e2-4d4d-dbb2-1eec56c4437a"
      },
      "source": [
        "dict_of_things[\"dairy\"]"
      ],
      "execution_count": 18,
      "outputs": [
        {
          "output_type": "execute_result",
          "data": {
            "application/vnd.google.colaboratory.intrinsic+json": {
              "type": "string"
            },
            "text/plain": [
              "'cheese'"
            ]
          },
          "metadata": {},
          "execution_count": 18
        }
      ]
    },
    {
      "cell_type": "markdown",
      "metadata": {
        "id": "OZCAnrVUArfu"
      },
      "source": [
        "You can update a dictionary as well."
      ]
    },
    {
      "cell_type": "code",
      "metadata": {
        "colab": {
          "base_uri": "https://localhost:8080/"
        },
        "id": "x8O5MFv1AvY1",
        "outputId": "664edd0c-e3a1-48bf-9f20-0f3c9bbff2ba"
      },
      "source": [
        "dict_of_things['protein'] = 'soy'\n",
        "dict_of_things"
      ],
      "execution_count": 20,
      "outputs": [
        {
          "output_type": "execute_result",
          "data": {
            "text/plain": [
              "{'dairy': 'cheese', 'fruit': 'apple', 'protein': 'soy', 'vegetable': 'celery'}"
            ]
          },
          "metadata": {},
          "execution_count": 20
        }
      ]
    },
    {
      "cell_type": "markdown",
      "metadata": {
        "id": "6Z6JK8q2A9JV"
      },
      "source": [
        "Try creating a new dictionary. Try updating your dictionary."
      ]
    },
    {
      "cell_type": "code",
      "metadata": {
        "id": "aNR7Tmf9A8oy"
      },
      "source": [
        "# Practice here"
      ],
      "execution_count": null,
      "outputs": []
    },
    {
      "cell_type": "markdown",
      "metadata": {
        "id": "LgYQb9AGSf3Q"
      },
      "source": [
        "For more practice, see https://melaniewalsh.github.io/Intro-Cultural-Analytics/02-Python/05-Data-Types.html\n"
      ]
    }
  ]
}
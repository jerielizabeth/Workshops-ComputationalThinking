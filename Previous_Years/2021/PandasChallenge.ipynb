{
  "nbformat": 4,
  "nbformat_minor": 0,
  "metadata": {
    "colab": {
      "name": "PandasChallenge",
      "provenance": [],
      "authorship_tag": "ABX9TyMHd64oFGEGfxsEWKKk+ILJ",
      "include_colab_link": true
    },
    "kernelspec": {
      "name": "python3",
      "display_name": "Python 3"
    },
    "language_info": {
      "name": "python"
    }
  },
  "cells": [
    {
      "cell_type": "markdown",
      "metadata": {
        "id": "view-in-github",
        "colab_type": "text"
      },
      "source": [
        "<a href=\"https://colab.research.google.com/github/jerielizabeth/Workshops-ComputationalThinking/blob/main/PandasChallenge.ipynb\" target=\"_parent\"><img src=\"https://colab.research.google.com/assets/colab-badge.svg\" alt=\"Open In Colab\"/></a>"
      ]
    },
    {
      "cell_type": "markdown",
      "metadata": {
        "id": "r1yhymCI-NfL"
      },
      "source": [
        "One of the best ways to learn is to try to replicate known steps with a different data set. \n",
        "\n",
        "Try reproducing some of the steps from the Pandas1 file using this data from the Bulletin for the Study of Religion. Fair warning, this data is messier than that in the example. "
      ]
    },
    {
      "cell_type": "code",
      "metadata": {
        "id": "9byLehRdllz7"
      },
      "source": [
        "github_url = \"https://raw.githubusercontent.com/jerielizabeth/Workshops-ComputationalThinking/main/articles-BSOR-edited.csv\""
      ],
      "execution_count": null,
      "outputs": []
    }
  ]
}
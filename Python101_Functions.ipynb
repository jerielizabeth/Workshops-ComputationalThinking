{
  "nbformat": 4,
  "nbformat_minor": 0,
  "metadata": {
    "colab": {
      "name": "Python101-Functions.ipynb",
      "provenance": [],
      "authorship_tag": "ABX9TyOpMySXc21L4UDqr+PvJA3K",
      "include_colab_link": true
    },
    "kernelspec": {
      "name": "python3",
      "display_name": "Python 3"
    },
    "language_info": {
      "name": "python"
    }
  },
  "cells": [
    {
      "cell_type": "markdown",
      "metadata": {
        "id": "view-in-github",
        "colab_type": "text"
      },
      "source": [
        "<a href=\"https://colab.research.google.com/github/jerielizabeth/Workshops-ComputationalThinking/blob/main/Python101_Functions.ipynb\" target=\"_parent\"><img src=\"https://colab.research.google.com/assets/colab-badge.svg\" alt=\"Open In Colab\"/></a>"
      ]
    },
    {
      "cell_type": "code",
      "metadata": {
        "id": "XRPhkRU7vffE"
      },
      "source": [
        "from IPython.display import Image"
      ],
      "execution_count": 1,
      "outputs": []
    },
    {
      "cell_type": "markdown",
      "metadata": {
        "id": "E_LR9g8zuwKO"
      },
      "source": [
        "Up to this point, we have had to write a line of code every time we want the computer to do something. But what if we want to do a similar process 100 times in a row? Write it out 100 times would be both tedious and give us 100 opportunities to make mistakes.\n",
        "\n",
        "Instead, we use a function to define a set of steps that we can then apply as many times as we need."
      ]
    },
    {
      "cell_type": "markdown",
      "metadata": {
        "id": "SPN3px_Ju3zH"
      },
      "source": [
        "Functions can be tricky to think about at first. Rather than solving an individual problem, you are working out a solution to a type of problem, one that can be applied in multiple situations."
      ]
    },
    {
      "cell_type": "markdown",
      "metadata": {
        "id": "SFe9BskVu7ke"
      },
      "source": [
        "An analogy that might help. If you knit or crochet, a pattern will describe a a combination of stitches that you should do and the number of times to execute the pattern, but it does not give you instructions for line 1 and line 2 if the patterns is the same.\n",
        "\n",
        "Similarly, a function lets us say \"this is the pattern\" and then we use logic and loops to tell the computer when and how often to follow the pattern. "
      ]
    },
    {
      "cell_type": "code",
      "metadata": {
        "colab": {
          "base_uri": "https://localhost:8080/",
          "height": 335
        },
        "id": "xz2M-eIhvhKr",
        "outputId": "40406426-6a67-451c-8a78-6a0595b9f03a"
      },
      "source": [
        "Image(url=\"https://media.giphy.com/media/3oEhmHmWP3Y9wQxoli/giphy.gif\")"
      ],
      "execution_count": 2,
      "outputs": [
        {
          "output_type": "execute_result",
          "data": {
            "text/html": [
              "<img src=\"https://media.giphy.com/media/3oEhmHmWP3Y9wQxoli/giphy.gif\"/>"
            ],
            "text/plain": [
              "<IPython.core.display.Image object>"
            ]
          },
          "metadata": {},
          "execution_count": 2
        }
      ]
    },
    {
      "cell_type": "markdown",
      "metadata": {
        "id": "mqkgIcN3u-0G"
      },
      "source": [
        "Whereas with variables, you could create a new one by simply declaring that\n",
        "\n",
        "`pipe = \"the definition of a pipe.\"`\n",
        "\n",
        "functions require a few additional parts."
      ]
    },
    {
      "cell_type": "markdown",
      "metadata": {
        "id": "2eJppdNlvFAd"
      },
      "source": [
        "Functions start with the following:\n",
        "\n",
        "`def function_name(parameters):`\n",
        "\n",
        "- `def` tells Python that you are about define a function.\n",
        "- You can send specific data to the function by passing in variables\n",
        "- and you end the function declaration with a `:`"
      ]
    },
    {
      "cell_type": "markdown",
      "metadata": {
        "id": "q6kOGRrlvJLl"
      },
      "source": [
        "The next line after the header is indented to signal to Python that we have now moved into the body of the function. The body is where we outline the steps of the process. \n"
      ]
    },
    {
      "cell_type": "code",
      "metadata": {
        "id": "OpKTwxJLvMjM"
      },
      "source": [
        "\n",
        "def function_name(parameters):\n",
        "  # body of the function\n",
        "  \n",
        "  return "
      ],
      "execution_count": null,
      "outputs": []
    }
  ]
}
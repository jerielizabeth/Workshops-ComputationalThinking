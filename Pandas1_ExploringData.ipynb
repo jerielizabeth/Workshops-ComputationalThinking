{
  "nbformat": 4,
  "nbformat_minor": 0,
  "metadata": {
    "kernelspec": {
      "display_name": "Python 3",
      "language": "python",
      "name": "python3"
    },
    "language_info": {
      "codemirror_mode": {
        "name": "ipython",
        "version": 3
      },
      "file_extension": ".py",
      "mimetype": "text/x-python",
      "name": "python",
      "nbconvert_exporter": "python",
      "pygments_lexer": "ipython3",
      "version": "3.8.8"
    },
    "colab": {
      "name": "Pandas1-ExploringData.ipynb",
      "provenance": [],
      "include_colab_link": true
    }
  },
  "cells": [
    {
      "cell_type": "markdown",
      "metadata": {
        "id": "view-in-github",
        "colab_type": "text"
      },
      "source": [
        "<a href=\"https://colab.research.google.com/github/jerielizabeth/Workshops-ComputationalThinking/blob/main/Pandas1_ExploringData.ipynb\" target=\"_parent\"><img src=\"https://colab.research.google.com/assets/colab-badge.svg\" alt=\"Open In Colab\"/></a>"
      ]
    },
    {
      "cell_type": "markdown",
      "metadata": {
        "id": "_f4PYq3nfdt8"
      },
      "source": [
        "This notebook is lightly modified from Melanie Walsh's Pandas Basics Part 1 lesson \n",
        "- https://melaniewalsh.github.io/Intro-Cultural-Analytics/03-Data-Analysis/01-Pandas-Basics-Part1.html"
      ]
    },
    {
      "cell_type": "markdown",
      "metadata": {
        "id": "EMeOzbL7d3Eo"
      },
      "source": [
        "# Pandas Basics — Part 1"
      ]
    },
    {
      "cell_type": "markdown",
      "metadata": {
        "id": "AhBZt1Kdd3Et"
      },
      "source": [
        "In this lesson, we're going to introduce some of the basics of [Pandas](https://pandas.pydata.org/pandas-docs/stable/getting_started/overview.html), a powerful Python library for working with tabular data like CSV files.\n",
        "\n",
        "We will cover how to:\n",
        "\n",
        "* Import Pandas\n",
        "* Read in a CSV file\n",
        "* Explore and filter data\n",
        "* Make simple plots and data visualizations\n",
        "* Write a CSV file\n",
        "\n",
        "___\n",
        "\n",
        "## Dataset\n",
        "### The Bellevue Almshouse Dataset"
      ]
    },
    {
      "cell_type": "markdown",
      "metadata": {
        "id": "r5SkHMnTd3Ev"
      },
      "source": [
        "<blockquote class=\"epigraph\" style=\" padding: 10px\">\n",
        "\n",
        "Nineteenth-century immigration data was produced with the express purpose of reducing people to bodies; bodies to easily quantifiable aspects; and assigning value to those aspects which proved that the marginalized people to who they belonged were worth less than their elite counterparts.\n",
        "\n",
        "-Anelise Shrout, [\"(Re)Humanizing Data\"](https://crdh.rrchnm.org/essays/v01-10-(re)-humanizing-data/)\n",
        "</blockquote>\n"
      ]
    },
    {
      "cell_type": "markdown",
      "metadata": {
        "id": "jOdQ_A9Yd3Ew"
      },
      "source": [
        "The dataset that we're working with in this lesson is the [Bellevue Almshouse Dataset](https://www.nyuirish.net/almshouse/the-almshouse-records/), created by historian and DH scholar Anelise Shrout. It includes information about Irish-born immigrants who were admitted to New York City's Bellevue Almshouse in the 1840s.\n",
        "\n",
        "The Bellevue Almshouse was part of New York City's public health system, a place where poor, sick, homeless, and otherwise marginalized people were sent — sometimes voluntarily and sometimes forcibly. Devastated by widespread famine in Ireland, many Irish people fled their homes for New York City in the 1840s, and many of them ended up in the Bellevue Almshouse.\n",
        "\n",
        "We're using the [Bellevue Almshouse Dataset](https://www.nyuirish.net/almshouse/the-almshouse-records/) to practice data analysis with Pandas because we want to think deeply about the consequences of reducing human life to data. As Shrout argues in [her essay](https://crdh.rrchnm.org/essays/v01-10-(re)-humanizing-data/), this data purposely reduced people to bodies and \"easily quantifiable aspects\" in order to devalue their lives, potentially enacting \"both epistemic and physical violence\" on them.\n",
        "\n",
        "We want to think about how responsible data analysis requires more than just technical tools like Pandas. It also requires an interrogation of the data. Who collected this data? How and why was this data collected? What assumptions are present in this data? What are the consequences of this data in the world? What does this data reflect about the world? For example, Shrout claims that the \"Bellevue administrators framed any ailments or difficulties inmates might have had as a consequence of [their immigration] status\" — perhaps best exemplified by the fact that a frequent \"disease\" in the dataset is \"recent emigrant.\" Below we're going to explore the prevalence of \"recent emigrant\" in the data as well as other salient patterns.\n",
        "\n",
        "___\n",
        "\n",
        "## Import Pandas\n",
        "\n",
        "To use the Pandas library, we first need to `import` it."
      ]
    },
    {
      "cell_type": "code",
      "metadata": {
        "id": "LiatFHE6d3Ex"
      },
      "source": [
        "import pandas as pd"
      ],
      "execution_count": null,
      "outputs": []
    },
    {
      "cell_type": "markdown",
      "metadata": {
        "id": "nReZCLx6d3Ez"
      },
      "source": [
        "The above `import` statement not only imports the Pandas library but also gives it an alias or nickname — `pd`. This alias will save us from having to type out the entire words `pandas` each time we need to use it. Many Python libraries have commonly used aliases like `pd`."
      ]
    },
    {
      "cell_type": "markdown",
      "metadata": {
        "id": "sLfiZZtMd3E1"
      },
      "source": [
        "## Set Display Settings"
      ]
    },
    {
      "cell_type": "markdown",
      "metadata": {
        "id": "aCJL4tN4d3E2"
      },
      "source": [
        "By default, Pandas will display 60 rows and 20 columns. I often change [Pandas' default display settings](https://pandas.pydata.org/pandas-docs/stable/user_guide/options.html) to show more rows or columns."
      ]
    },
    {
      "cell_type": "code",
      "metadata": {
        "id": "_6ixCYnqd3E3"
      },
      "source": [
        "pd.options.display.max_rows = 100"
      ],
      "execution_count": null,
      "outputs": []
    },
    {
      "cell_type": "markdown",
      "metadata": {
        "id": "ONM68Xhed3E4"
      },
      "source": [
        "## Read in CSV File"
      ]
    },
    {
      "cell_type": "markdown",
      "metadata": {
        "id": "VyGGmJ3Nd3E5"
      },
      "source": [
        "To read in a CSV file, we will use the function `pd.read_csv()` and insert the name of our desired file path. "
      ]
    },
    {
      "cell_type": "code",
      "metadata": {
        "id": "q3Om4YA5d3E5"
      },
      "source": [
        "github_url = 'https://raw.githubusercontent.com/melaniewalsh/Intro-Cultural-Analytics/master/book/data/bellevue_almshouse_modified.csv'\n",
        "\n",
        "bellevue_df = pd.read_csv(github_url, delimiter=\",\")"
      ],
      "execution_count": null,
      "outputs": []
    },
    {
      "cell_type": "markdown",
      "metadata": {
        "id": "aTugeCD7d3E6"
      },
      "source": [
        "This creates a Pandas [DataFrame object](https://pandas.pydata.org/pandas-docs/stable/user_guide/dsintro.html#dataframe) — often abbreviated as *df*, e.g., *bellevue_df*. A DataFrame looks and acts a lot like a spreadsheet. But it has special powers and functions that we will discuss in the next few lessons.\n",
        "\n",
        "When reading in the CSV file, we also specified the `encoding` and `delimiter`. The `delimiter` specifies the character that separates or \"delimits\" the columns in our dataset. For CSV files, the delimiter will most often be a comma. (CSV is short for *Comma Separated Values*.) Sometimes, however, the delimiter of a CSV file might be a tab (`\\t`) or, more rarely, another character.\n",
        "\n",
        "## Display Data\n",
        "\n",
        "We can display a DataFrame in a Jupyter notebook simply by running a cell with the variable name of the DataFrame.\n",
        "\n",
        "<div class=\"admonition pandasreview\" name=\"html-admonition\" style=\"background: black; color: white; padding: 10px\">\n",
        "<p class=\"title\">Pandas Review</p>\n",
        "<code>NaN</code> is the Pandas value for any missing data. See <a href=\"https://pandas.pydata.org/pandas-docs/stable/user_guide/missing_data.html?highlight=nan/\">\"Working with missing data\"</a> for more information.\n",
        "     \n",
        "</div>"
      ]
    },
    {
      "cell_type": "code",
      "metadata": {
        "id": "0DvBqL6qd3E7"
      },
      "source": [
        "bellevue_df"
      ],
      "execution_count": null,
      "outputs": []
    },
    {
      "cell_type": "markdown",
      "metadata": {
        "id": "MPP47lukd3E8"
      },
      "source": [
        "There are a few important things to note about the DataFrame displayed here:\n",
        "\n",
        "* Index\n",
        "    * The bolded ascending numbers in the very left-hand column of the DataFrame is called the Pandas *Index*. You can select rows based on the Index.\n",
        "    * By default, the Index is a sequence of numbers starting with zero. However, you can change the Index to something else, such as one of the columns in your dataset.\n",
        "\n",
        "* Truncation\n",
        "    * The DataFrame is truncated, signaled by the ellipses in the middle `...` of every column.\n",
        "    * The DataFrame is truncated because we set our default display settings to 100 rows. Anything more than 100 rows will be truncated. To display all the rows, we would need to alter Pandas' default display settings yet again.\n",
        "\n",
        "* Rows x Columns\n",
        "    * Pandas reports how many rows and columns are in this dataset at the bottom of the output (9584 x 8 columns).\n",
        "    * This is very useful!"
      ]
    },
    {
      "cell_type": "markdown",
      "metadata": {
        "id": "RDhLXaE8d3E9"
      },
      "source": [
        "### Display First *n* Rows\n",
        "\n",
        "To look at the first *n* rows in a DataFrame, we can use a method called `.head()`."
      ]
    },
    {
      "cell_type": "code",
      "metadata": {
        "id": "yNTvZgD_d3E-"
      },
      "source": [
        "bellevue_df.head(2)"
      ],
      "execution_count": null,
      "outputs": []
    },
    {
      "cell_type": "code",
      "metadata": {
        "id": "WVZi0K0Fd3E-"
      },
      "source": [
        "bellevue_df.head(10)"
      ],
      "execution_count": null,
      "outputs": []
    },
    {
      "cell_type": "markdown",
      "metadata": {
        "id": "UIYRxwzxd3E_"
      },
      "source": [
        "### Display Random Sample"
      ]
    },
    {
      "cell_type": "markdown",
      "metadata": {
        "id": "fcOrF8yFd3FA"
      },
      "source": [
        "To look at a random sample of rows, we can use the `.sample()` method."
      ]
    },
    {
      "cell_type": "code",
      "metadata": {
        "id": "Nd14D_LXd3FA"
      },
      "source": [
        "bellevue_df.sample(10)"
      ],
      "execution_count": null,
      "outputs": []
    },
    {
      "cell_type": "markdown",
      "metadata": {
        "id": "TdINc-Xnd3FA"
      },
      "source": [
        "## Get Info"
      ]
    },
    {
      "cell_type": "markdown",
      "metadata": {
        "id": "7KoJdXxnd3FB"
      },
      "source": [
        "To get important info about all the columns in the DataFrame, we can use `.info()`."
      ]
    },
    {
      "cell_type": "code",
      "metadata": {
        "id": "AdJX24Lld3FB"
      },
      "source": [
        "bellevue_df.info()"
      ],
      "execution_count": null,
      "outputs": []
    },
    {
      "cell_type": "markdown",
      "metadata": {
        "id": "VEw9rvfWd3FC"
      },
      "source": [
        "This report will tell us how many non-null, or non-blank, values are in each column, as well as what *type* of data is in each column.\n",
        "\n",
        "\n",
        "\n",
        "| **Pandas Data Type** |  **Explanation**                                                                                   |\n",
        "|:-------------:|:---------------------------------------------------------------------------------------------------:|\n",
        "| `object`         | string                                                                               |\n",
        "| `float64`         | float                                               |\n",
        "| `int64`       | integer                                                        |\n",
        "| `datetime64`       |  date time              "
      ]
    },
    {
      "cell_type": "markdown",
      "metadata": {
        "id": "iSlHIqJqd3FC"
      },
      "source": [
        "## Calculate Summary Statistics"
      ]
    },
    {
      "cell_type": "markdown",
      "metadata": {
        "id": "yD9gP6IId3FD"
      },
      "source": [
        "To calculate summary statistics for every column in our DataFrame, we can use the `.describe()` method."
      ]
    },
    {
      "cell_type": "code",
      "metadata": {
        "id": "s_yMR_Nvd3FD"
      },
      "source": [
        "bellevue_df.describe()"
      ],
      "execution_count": null,
      "outputs": []
    },
    {
      "cell_type": "markdown",
      "metadata": {
        "id": "NWM21vudd3FE"
      },
      "source": [
        "By default, `.describe()` will only compute columns with numerical data. To include all columns, we can use `include='all`."
      ]
    },
    {
      "cell_type": "markdown",
      "metadata": {
        "id": "mzcvvi5vd3FE"
      },
      "source": [
        "<div class=\"admonition pandasreview\" name=\"html-admonition\" style=\"background: black; color: white; padding: 10px\">\n",
        "<p class=\"title\">Pandas Review</p>\n",
        "<code>NaN</code> is the Pandas value for any missing data. See <a href=\"https://pandas.pydata.org/pandas-docs/stable/user_guide/missing_data.html?highlight=nan/\">\"Working with missing data\"</a> for more information.\n",
        "     \n",
        "</div>"
      ]
    },
    {
      "cell_type": "code",
      "metadata": {
        "id": "Flyg1ayud3FE"
      },
      "source": [
        "bellevue_df.describe(include='all')"
      ],
      "execution_count": null,
      "outputs": []
    },
    {
      "cell_type": "markdown",
      "metadata": {
        "id": "R4jKFCmed3FF"
      },
      "source": [
        "Here are some insights that can be gleaned from these summary statistics:\n",
        "- For the column **date_in**, the earliest recorded admission to the Bellevue Almshouse (**first**) is 1846-01-01  and the latest (**last**) is 1847-12-31 \n",
        "- For the column **first_name**, the most frequently occurring first name (**top**) is Mary, which appears 979 times (**freq**)\n",
        "- For the column **last_name**, the most frequently occurring last name (**top**) is Kelly, which appears 137 times (**freq**)\n",
        "- For the column **age**, average age in the dataset (**mean**) is 30, the youngest (**min**) is .8, and the oldest (**max**) is 97\n",
        "- For the columns **disease** and **profession**, there are 75 unique (**unique**) diseases and 172 unique (**unique**) professions\n",
        "- For the column **children**, there are 37 rows that include information about children (**count**) (i.e., rows that do not have blank values)\n",
        "\n"
      ]
    },
    {
      "cell_type": "markdown",
      "metadata": {
        "id": "Zwcp3pned3FF"
      },
      "source": [
        "## Select Columns"
      ]
    },
    {
      "cell_type": "markdown",
      "metadata": {
        "id": "EAxsCRXzd3FG"
      },
      "source": [
        "To select a column from the DataFrame, we will type the name of the DataFrame followed by square brackets and a column name in quotations marks."
      ]
    },
    {
      "cell_type": "code",
      "metadata": {
        "id": "Dq6B8dD1d3FG"
      },
      "source": [
        "bellevue_df['disease']"
      ],
      "execution_count": null,
      "outputs": []
    },
    {
      "cell_type": "markdown",
      "metadata": {
        "id": "nmVVTax1d3FG"
      },
      "source": [
        "<div class=\"admonition pythonreview\" name=\"html-admonition\" style=\"background: lightgreen; padding: 10px\">\n",
        "<p class=\"title\">Python Review</p>\n",
        "\n",
        "**Dictionary**\n",
        "    \n",
        "<code>\n",
        "person1 = {\"name\": \"Mary Gallagher\",\n",
        "         \"age\": 28,\n",
        "         \"profession\": \"married\"}\n",
        "</code>\n",
        "\n",
        "**Key** -> **Value**\n",
        "<code>\n",
        "person1['name'] —> \"Mary Gallagher\"\n",
        "</code> "
      ]
    },
    {
      "cell_type": "markdown",
      "metadata": {
        "id": "aTGnpqZJd3FH"
      },
      "source": [
        "Technically, a single column in a DataFrame is a [*Series* object](https://pandas.pydata.org/pandas-docs/stable/user_guide/dsintro.html#dsintro)."
      ]
    },
    {
      "cell_type": "code",
      "metadata": {
        "id": "ZToekwdbd3FH"
      },
      "source": [
        "type(bellevue_df['disease'])"
      ],
      "execution_count": null,
      "outputs": []
    },
    {
      "cell_type": "markdown",
      "metadata": {
        "id": "2gK4Kertd3FH"
      },
      "source": [
        "A Series object displays differently than a DataFrame object. To select a column as a DataFrame and not as a Series object, we will use two square brackets."
      ]
    },
    {
      "cell_type": "code",
      "metadata": {
        "id": "NG_Wkr-pd3FI"
      },
      "source": [
        "bellevue_df[['disease']]"
      ],
      "execution_count": null,
      "outputs": []
    },
    {
      "cell_type": "code",
      "metadata": {
        "id": "_gAXIIGNd3FI"
      },
      "source": [
        "type(bellevue_df[['disease']])"
      ],
      "execution_count": null,
      "outputs": []
    },
    {
      "cell_type": "markdown",
      "metadata": {
        "id": "ExuNpPFwd3FJ"
      },
      "source": [
        "By using two square brackets, we can also select multiple columns at the same time."
      ]
    },
    {
      "cell_type": "code",
      "metadata": {
        "id": "yQOwjTYbd3FJ"
      },
      "source": [
        "bellevue_df[['first_name', 'last_name', 'disease']]"
      ],
      "execution_count": null,
      "outputs": []
    },
    {
      "cell_type": "markdown",
      "metadata": {
        "id": "cHtUaYDBd3FJ"
      },
      "source": [
        "``` {warning}\n",
        "Heads up! The code below will cause an error.\n",
        "```"
      ]
    },
    {
      "cell_type": "markdown",
      "metadata": {
        "id": "ofrEiDZMd3FK"
      },
      "source": [
        "See what happens if we try to select multiple columns as a Series..."
      ]
    },
    {
      "cell_type": "code",
      "metadata": {
        "tags": [
          "hide-output"
        ],
        "id": "0gQi2FFLd3FK"
      },
      "source": [
        "bellevue_df['first_name', 'last_name', 'disease']"
      ],
      "execution_count": null,
      "outputs": []
    },
    {
      "cell_type": "markdown",
      "metadata": {
        "id": "pN17xQDQd3FL"
      },
      "source": [
        "## Count Values"
      ]
    },
    {
      "cell_type": "markdown",
      "metadata": {
        "id": "h6034LQfd3FL"
      },
      "source": [
        "To count the number of *unique* values in a column, we can use the `.value_counts()` method."
      ]
    },
    {
      "cell_type": "markdown",
      "metadata": {
        "id": "51NMS93Yd3FM"
      },
      "source": [
        "```{sidebar} On Bellevue Almshouse \"Diseases\"\n",
        "> Some were diagnosed with medically recognizable illnesses, including “fever,” “dropsy” and “neuralgia.” Others were diagnosed with “diseases” that made visible the ways in which immigrants were failing to meet the expectations of urban citizenship. These included “destitution” and “recent emigrant.” Neither of these diagnoses reflected an immigrant’s health. Nevertheless, they were treated as pathologies, and those pathologies governed city officials perceptions of immigrants. Sickness, injuries or destitution were subsumed under the pathology of “recent emigrant.” This diagnosis also determined immigrants’ paths through the New York City public health system.\n",
        "\n",
        "-Anelise Shrout, [\"(Re)Humanizing Data: Digitally Navigating the Bellevue Almshouse\"](https://crdh.rrchnm.org/essays/v01-10-(re)-humanizing-data/)\n",
        "```"
      ]
    },
    {
      "cell_type": "code",
      "metadata": {
        "scrolled": true,
        "id": "eVl6t2-Qd3FM"
      },
      "source": [
        "bellevue_df['disease'].value_counts()"
      ],
      "execution_count": null,
      "outputs": []
    },
    {
      "cell_type": "markdown",
      "metadata": {
        "id": "QV3k0OqDd3FM"
      },
      "source": [
        "Look through the so-called \"diseases\" recorded in the Bellevue Almshouse data and consider what these categories reflect about New York City in the 1840s, particularly with regard to immigration status."
      ]
    },
    {
      "cell_type": "markdown",
      "metadata": {
        "id": "yk_H0ppDd3FM"
      },
      "source": [
        "To select the top 10 most frequent values in the \"disease\" column, we can combine `value_counts()` with regular Python list slicing."
      ]
    },
    {
      "cell_type": "code",
      "metadata": {
        "id": "hyHReCMvd3FN"
      },
      "source": [
        "bellevue_df['disease'].value_counts()[:10]"
      ],
      "execution_count": null,
      "outputs": []
    },
    {
      "cell_type": "code",
      "metadata": {
        "id": "kZuc9m0cd3FN"
      },
      "source": [
        "bellevue_df['profession'].value_counts()[:10]"
      ],
      "execution_count": null,
      "outputs": []
    },
    {
      "cell_type": "markdown",
      "metadata": {
        "id": "A14Hd3qJd3FP"
      },
      "source": [
        "In a similar vein, consider what these \"professions\" reflect about New York City in the 1840s."
      ]
    },
    {
      "cell_type": "markdown",
      "metadata": {
        "id": "WYgpIbRkd3FP"
      },
      "source": [
        "## Make and Save Plots"
      ]
    },
    {
      "cell_type": "markdown",
      "metadata": {
        "id": "LP8esNrDd3FP"
      },
      "source": [
        "Pandas makes it easy to create plots and data visualizations. We can make a simple plot by adding `.plot()` to any DataFrame or Series object that has appropriate numeric data."
      ]
    },
    {
      "cell_type": "code",
      "metadata": {
        "id": "2peBk5IRd3FP"
      },
      "source": [
        "bellevue_df['disease'].value_counts()[:10].plot(kind='bar', title='Bellevue Almshouse:\\nMost Frequent \"Diseases\"')"
      ],
      "execution_count": null,
      "outputs": []
    },
    {
      "cell_type": "markdown",
      "metadata": {
        "id": "-xkWbgzQd3FP"
      },
      "source": [
        " We specify the title with the `title=` parameter and the kind of plot by altering the `kind=` parameter:\n",
        "* ‘bar’ or ‘barh’ for bar plots\n",
        "\n",
        "* ‘hist’ for histogram\n",
        "\n",
        "* ‘box’ for boxplot\n",
        "\n",
        "* ‘kde’ or ‘density’ for density plots\n",
        "\n",
        "* ‘area’ for area plots\n",
        "\n",
        "* ‘scatter’ for scatter plots\n",
        "\n",
        "* ‘hexbin’ for hexagonal bin plots\n",
        "\n",
        "* ‘pie’ for pie plots\n",
        " \n",
        "For example, to make a horizontal bar chart, we can set `kind='barh'`"
      ]
    },
    {
      "cell_type": "code",
      "metadata": {
        "id": "cca8XFLBd3FQ"
      },
      "source": [
        "bellevue_df['disease'].value_counts()[:10].plot(kind='barh',title='Bellevue Almshouse:\\nMost Frequent \"Diseases\"').get_figure().savefig('Bellevue')"
      ],
      "execution_count": null,
      "outputs": []
    },
    {
      "cell_type": "markdown",
      "metadata": {
        "id": "sdOkJdeyd3FQ"
      },
      "source": [
        "To make a pie chart, we can set `kind='pie'`"
      ]
    },
    {
      "cell_type": "code",
      "metadata": {
        "id": "c4BMSQU0d3FQ"
      },
      "source": [
        "bellevue_df['profession'].value_counts()[:10].plot(kind='pie', figsize=(10, 10), title='Bellevue Almshouse:\\nMost Frequent \"Professions\"')"
      ],
      "execution_count": null,
      "outputs": []
    },
    {
      "cell_type": "markdown",
      "metadata": {
        "id": "ky9Ztorjd3FQ"
      },
      "source": [
        "To save a plot as an image file or PDF file, we can assign the plot to a variable called `ax`, short for axes.\n",
        "\n",
        "Then we can use `ax.figure.savefig('FILE-NAME.png')` or `ax.figure.savefig('FILE-NAME.pdf')`."
      ]
    },
    {
      "cell_type": "code",
      "metadata": {
        "id": "u4PLv6fbd3FR"
      },
      "source": [
        "ax = bellevue_df['profession'].value_counts()[:10].plot(kind='pie', figsize=(10, 10), title='Bellevue Almshouse:\\nMost Frequent \"Professions\"')\n",
        "ax.figure.savefig('Bellevue-professions_pie-chart.pdf')"
      ],
      "execution_count": null,
      "outputs": []
    },
    {
      "cell_type": "markdown",
      "metadata": {
        "id": "Cds7DXREd3FR"
      },
      "source": [
        "If your plot is being cut off in the image, see Pandas Basics Part 2 (\"Prevent Labels From Getting Cut Off\")."
      ]
    },
    {
      "cell_type": "markdown",
      "metadata": {
        "id": "LiI1NtpJd3FR"
      },
      "source": [
        "## Filter/Subset Data"
      ]
    },
    {
      "cell_type": "markdown",
      "metadata": {
        "id": "7KduFqPFd3FS"
      },
      "source": [
        "We can filter a Pandas DataFrame to select only certain values. Filtering data by certain values is similar to selecting columns.\n",
        "\n",
        "We type the name of the DataFrame followed by square brackets and then, instead of inserting a column name, we insert a True/False condition. For example, to select only rows that contain the value \"teacher,\" we insert the condition `bellevue_df['profession'] == 'teacher'`"
      ]
    },
    {
      "cell_type": "code",
      "metadata": {
        "id": "u0t81KYOd3FS"
      },
      "source": [
        "bellevue_df[bellevue_df['profession'] == 'teacher']"
      ],
      "execution_count": null,
      "outputs": []
    },
    {
      "cell_type": "markdown",
      "metadata": {
        "id": "0IiP5rYod3FT"
      },
      "source": [
        "It can be helpful to isolate this condition and see that it produces a long list of True/False pairs for every row."
      ]
    },
    {
      "cell_type": "code",
      "metadata": {
        "id": "HKsAIAY_d3FT"
      },
      "source": [
        "bellevue_df['profession'] == 'teacher'"
      ],
      "execution_count": null,
      "outputs": []
    },
    {
      "cell_type": "markdown",
      "metadata": {
        "id": "pcbYzcsEd3FU"
      },
      "source": [
        "Filtering DataFrames can sometimes get confusing and unwieldy (as conditions within conditions pile up like Russian dolls). It can be helpful to make a separate variable for a filter, as below."
      ]
    },
    {
      "cell_type": "code",
      "metadata": {
        "id": "6qRg3AsPd3FU"
      },
      "source": [
        "teacher_filter = bellevue_df['profession'] == 'teacher'"
      ],
      "execution_count": null,
      "outputs": []
    },
    {
      "cell_type": "code",
      "metadata": {
        "id": "WntnhqV5d3FU"
      },
      "source": [
        "bellevue_df[teacher_filter]"
      ],
      "execution_count": null,
      "outputs": []
    },
    {
      "cell_type": "markdown",
      "metadata": {
        "id": "u5yjljL8d3FV"
      },
      "source": [
        "In a similar vein, it's often useful to make a new variable for a filtered DataFrame. For example, let's say we wanted to look at only the women in the dataset and see the most commons professions."
      ]
    },
    {
      "cell_type": "code",
      "metadata": {
        "id": "2aqo07wUd3FV"
      },
      "source": [
        "women_filter = bellevue_df['gender'] == 'w'"
      ],
      "execution_count": null,
      "outputs": []
    },
    {
      "cell_type": "code",
      "metadata": {
        "id": "BxsAG0bFd3FV"
      },
      "source": [
        "bellevue_women = bellevue_df[women_filter]"
      ],
      "execution_count": null,
      "outputs": []
    },
    {
      "cell_type": "code",
      "metadata": {
        "id": "S6F0srVMd3FW"
      },
      "source": [
        "bellevue_women['profession'].value_counts()"
      ],
      "execution_count": null,
      "outputs": []
    },
    {
      "cell_type": "code",
      "metadata": {
        "id": "94ui2EE9d3FW"
      },
      "source": [
        "bellevue_women['profession'].value_counts().plot(kind='pie', figsize=(10,10), title='Bellevue Almshouse:\\nMost Frequent \"Professions\" Among Women')"
      ],
      "execution_count": null,
      "outputs": []
    },
    {
      "cell_type": "markdown",
      "metadata": {
        "id": "gQXjAyQFd3FW"
      },
      "source": [
        "There's a lot we can do with filters beyond exact value matches with an equals operator `==`.\n",
        "\n",
        "We can also incorporate `>`, `<`, `>=`, `<=` with integers, floats, and even dates. For example, we can filter the DataFrame for only people who arrived to the Bellevue Almshouse on or after '1847-04-17'"
      ]
    },
    {
      "cell_type": "code",
      "metadata": {
        "id": "4FOBNPiYd3FW"
      },
      "source": [
        "date_filter = bellevue_df['date_in'] >= '1847-04-17'"
      ],
      "execution_count": null,
      "outputs": []
    },
    {
      "cell_type": "code",
      "metadata": {
        "scrolled": true,
        "id": "7_wRoOusd3FX"
      },
      "source": [
        "bellevue_df[date_filter]"
      ],
      "execution_count": null,
      "outputs": []
    },
    {
      "cell_type": "markdown",
      "metadata": {
        "id": "w3wiCWcMd3FX"
      },
      "source": [
        "## Write to CSV"
      ]
    },
    {
      "cell_type": "markdown",
      "metadata": {
        "id": "B2HuxVhsd3FX"
      },
      "source": [
        "To output a new CSV file, we can use the `.to_csv` method with a name for the file in quotation marks. "
      ]
    },
    {
      "cell_type": "markdown",
      "metadata": {
        "id": "6J9VXWuXd3FX"
      },
      "source": [
        "Here's how we might output a new CSV file that only includes rows with women."
      ]
    },
    {
      "cell_type": "code",
      "metadata": {
        "id": "XmL7uoaTd3FX"
      },
      "source": [
        "bellevue_women.to_csv(\"Bellevue_women.csv\", encoding='utf-8', index=False)"
      ],
      "execution_count": null,
      "outputs": []
    },
    {
      "cell_type": "markdown",
      "metadata": {
        "id": "ryvhQZCMd3FX"
      },
      "source": [
        "In addition to a filename, we're also specifying that the encoding is utf-8 and that the Index (the bolded left-most column) is not included in the CSV file."
      ]
    },
    {
      "cell_type": "markdown",
      "metadata": {
        "id": "qPPmZgW1d3FY"
      },
      "source": [
        "## Further Resources"
      ]
    },
    {
      "cell_type": "markdown",
      "metadata": {
        "id": "PlFJYjp4d3FY"
      },
      "source": [
        "- [10 minutes to Pandas](https://pandas.pydata.org/pandas-docs/stable/user_guide/10min.html), Pandas Official Documentation\n",
        "- [\"Data Manipulation with Pandas\"](https://jakevdp.github.io/PythonDataScienceHandbook/03.00-introduction-to-pandas.html), *Python Data Science*, Jake VanderPlas"
      ]
    }
  ]
}
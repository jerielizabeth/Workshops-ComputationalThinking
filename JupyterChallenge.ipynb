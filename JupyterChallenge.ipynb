{
  "nbformat": 4,
  "nbformat_minor": 0,
  "metadata": {
    "colab": {
      "provenance": [],
      "authorship_tag": "ABX9TyOHgJqXExRsOBSLxM8g/EvX",
      "include_colab_link": true
    },
    "kernelspec": {
      "name": "python3",
      "display_name": "Python 3"
    },
    "language_info": {
      "name": "python"
    }
  },
  "cells": [
    {
      "cell_type": "markdown",
      "metadata": {
        "id": "view-in-github",
        "colab_type": "text"
      },
      "source": [
        "<a href=\"https://colab.research.google.com/github/jerielizabeth/Workshops-ComputationalThinking/blob/main/JupyterChallenge.ipynb\" target=\"_parent\"><img src=\"https://colab.research.google.com/assets/colab-badge.svg\" alt=\"Open In Colab\"/></a>"
      ]
    },
    {
      "cell_type": "markdown",
      "source": [
        "**Import** the regex library (re) and the collections library"
      ],
      "metadata": {
        "id": "rXAXJZAb_4ta"
      }
    },
    {
      "cell_type": "code",
      "source": [],
      "metadata": {
        "id": "RsLAt-Dy_4R4"
      },
      "execution_count": null,
      "outputs": []
    },
    {
      "cell_type": "markdown",
      "source": [
        "Create a **variable** that contains the following:\n",
        "\n",
        "\n",
        "The canvassing work, properly conducted, is missionary work of the highest order, and it is as good and successful a method as can be employed for placing before the people the important truths for this time.\n",
        "\n",
        "The importance of the work of the ministry is unmistakable; but many who are hungry for the bread of life have not the privilege of hearing the word from God's delegated preachers.\n",
        "\n",
        "For this reason it is essential that our publications be widely circulated.\n",
        "\n",
        "Thus the message will go where the living preacher cannot go, and the attention of many will be called to the important events connected with the closing scenes of this world's history.\n",
        "\n",
        "God has ordained the canvassing work as a means of presenting before the people the light contained in our books, and canvassers should be impressed with the importance of bringing before the world as fast as possible the books necessary for their spiritual education and enlightenment.\n",
        "\n",
        "This is the very work the Lord would have His people do at this time.\n",
        "\n",
        "All who consecrate themselves to God to work as canvassers are assisting to give the last message of warning to the world.\n",
        "\n",
        "We cannot too highly estimate this work; for were it not for the efforts of the canvasser, many would never hear the warning. \n",
        "\n",
        "Ellen White, The Colporteur Evangelist"
      ],
      "metadata": {
        "id": "ltbvh4KC9OWP"
      }
    },
    {
      "cell_type": "code",
      "source": [],
      "metadata": {
        "id": "0-CoJVLnABTy"
      },
      "execution_count": null,
      "outputs": []
    },
    {
      "cell_type": "markdown",
      "source": [
        "Use the **.lower()** function to make all of the text lower case. Save as a new variable."
      ],
      "metadata": {
        "id": "kVT04TlGGP1I"
      }
    },
    {
      "cell_type": "code",
      "source": [],
      "metadata": {
        "id": "u0tXYf6JHXlp"
      },
      "execution_count": null,
      "outputs": []
    },
    {
      "cell_type": "markdown",
      "source": [
        "Use **regex** (re) to **split** the text into words and save those as a new variable. Print the results."
      ],
      "metadata": {
        "id": "29vLoRgrDDJc"
      }
    },
    {
      "cell_type": "code",
      "source": [],
      "metadata": {
        "id": "7KAcwbkFDD1a"
      },
      "execution_count": null,
      "outputs": []
    },
    {
      "cell_type": "markdown",
      "source": [
        "Use the **Counter** method in **collections** to count the words. Save as a new variable.\n"
      ],
      "metadata": {
        "id": "kqEhEJzFB95v"
      }
    },
    {
      "cell_type": "code",
      "source": [],
      "metadata": {
        "id": "3-nsp764B81J"
      },
      "execution_count": null,
      "outputs": []
    },
    {
      "cell_type": "markdown",
      "source": [
        "Use the **most_common()** method to get the **10** most common words."
      ],
      "metadata": {
        "id": "QfCkOTGNEJJp"
      }
    },
    {
      "cell_type": "code",
      "source": [],
      "metadata": {
        "id": "UVdlanh4EJlQ"
      },
      "execution_count": null,
      "outputs": []
    },
    {
      "cell_type": "markdown",
      "source": [
        "# Bonus Challenge\n",
        "\n",
        "Remove the small, frequently-used words (stopwords) from the text and save as a new variable. \n",
        "\n",
        "Then rerun the counter function."
      ],
      "metadata": {
        "id": "Ddlv7580HkE1"
      }
    },
    {
      "cell_type": "code",
      "source": [
        "stopwords = ['i', 'me', 'my', 'myself', 'we', 'our', 'ours', 'ourselves', 'you', 'your', 'yours',\n",
        " 'yourself', 'yourselves', 'he', 'him', 'his', 'himself', 'she', 'her', 'hers',\n",
        " 'herself', 'it', 'its', 'itself', 'they', 'them', 'their', 'theirs', 'themselves',\n",
        " 'what', 'which', 'who', 'whom', 'this', 'that', 'these', 'those', 'am', 'is', 'are',\n",
        " 'was', 'were', 'be', 'been', 'being', 'have', 'has', 'had', 'having', 'do', 'does',\n",
        " 'did', 'doing', 'a', 'an', 'the', 'and', 'but', 'if', 'or', 'because', 'as', 'until',\n",
        " 'while', 'of', 'at', 'by', 'for', 'with', 'about', 'against', 'between', 'into',\n",
        " 'through', 'during', 'before', 'after', 'above', 'below', 'to', 'from', 'up', 'down',\n",
        " 'in', 'out', 'on', 'off', 'over', 'under', 'again', 'further', 'then', 'once', 'here',\n",
        " 'there', 'when', 'where', 'why', 'how', 'all', 'any', 'both', 'each', 'few', 'more',\n",
        " 'most', 'other', 'some', 'such', 'no', 'nor', 'not', 'only', 'own', 'same', 'so',\n",
        " 'than', 'too', 'very', 's', 't', 'can', 'will', 'just', 'don', 'should', 'now', 've', 'll', 'amp']"
      ],
      "metadata": {
        "id": "3RTaIK5WHks4"
      },
      "execution_count": 1,
      "outputs": []
    },
    {
      "cell_type": "code",
      "source": [],
      "metadata": {
        "id": "N-TwFfp2HlMS"
      },
      "execution_count": 1,
      "outputs": []
    }
  ]
}